{
 "cells": [
  {
   "cell_type": "markdown",
   "metadata": {
    "lines_to_next_cell": 0,
    "toc": true
   },
   "source": [
    "<h1>Table of Contents<span class=\"tocSkip\"></span></h1>\n",
    "<div class=\"toc\"><ul class=\"toc-item\"><li><span><a href=\"#One-dimensional-steady-state-finite-volume-approximation\" data-toc-modified-id=\"One-dimensional-steady-state-finite-volume-approximation-1\"><span class=\"toc-item-num\">1&nbsp;&nbsp;</span>One dimensional steady-state finite-volume approximation</a></span><ul class=\"toc-item\"><li><span><a href=\"#Summary-to-this-point\" data-toc-modified-id=\"Summary-to-this-point-1.1\"><span class=\"toc-item-num\">1.1&nbsp;&nbsp;</span>Summary to this point</a></span></li><li><span><a href=\"#Fick's-law-of-diffusion\" data-toc-modified-id=\"Fick's-law-of-diffusion-1.2\"><span class=\"toc-item-num\">1.2&nbsp;&nbsp;</span>Fick's law of diffusion</a></span></li><li><span><a href=\"#Your-turn\" data-toc-modified-id=\"Your-turn-1.3\"><span class=\"toc-item-num\">1.3&nbsp;&nbsp;</span>Your turn</a></span></li><li><span><a href=\"#Your-turn\" data-toc-modified-id=\"Your-turn-1.4\"><span class=\"toc-item-num\">1.4&nbsp;&nbsp;</span>Your turn</a></span></li><li><span><a href=\"#Your-turn\" data-toc-modified-id=\"Your-turn-1.5\"><span class=\"toc-item-num\">1.5&nbsp;&nbsp;</span>Your turn</a></span></li><li><span><a href=\"#Your-turn\" data-toc-modified-id=\"Your-turn-1.6\"><span class=\"toc-item-num\">1.6&nbsp;&nbsp;</span>Your turn</a></span></li><li><span><a href=\"#Fick's-law-of-diffusion-of-solutes-in-porous-media\" data-toc-modified-id=\"Fick's-law-of-diffusion-of-solutes-in-porous-media-1.7\"><span class=\"toc-item-num\">1.7&nbsp;&nbsp;</span>Fick's law of diffusion of solutes in porous media</a></span></li><li><span><a href=\"#Your-turn\" data-toc-modified-id=\"Your-turn-1.8\"><span class=\"toc-item-num\">1.8&nbsp;&nbsp;</span>Your turn</a></span><ul class=\"toc-item\"><li><span><a href=\"#Aside:-Gradients-in-3-dimensions\" data-toc-modified-id=\"Aside:-Gradients-in-3-dimensions-1.8.1\"><span class=\"toc-item-num\">1.8.1&nbsp;&nbsp;</span>Aside: Gradients in 3 dimensions</a></span></li></ul></li><li><span><a href=\"#Gridblock-fluxes-in-terms-of-concentrations\" data-toc-modified-id=\"Gridblock-fluxes-in-terms-of-concentrations-1.9\"><span class=\"toc-item-num\">1.9&nbsp;&nbsp;</span>Gridblock fluxes in terms of concentrations</a></span><ul class=\"toc-item\"><li><span><a href=\"#1-Total-fluxes-as-specific-fluxes\" data-toc-modified-id=\"1-Total-fluxes-as-specific-fluxes-1.9.1\"><span class=\"toc-item-num\">1.9.1&nbsp;&nbsp;</span>1 Total fluxes as specific fluxes</a></span></li></ul></li><li><span><a href=\"#Your-turn\" data-toc-modified-id=\"Your-turn-1.10\"><span class=\"toc-item-num\">1.10&nbsp;&nbsp;</span>Your turn</a></span></li><li><span><a href=\"#Your-turn\" data-toc-modified-id=\"Your-turn-1.11\"><span class=\"toc-item-num\">1.11&nbsp;&nbsp;</span>Your turn</a></span><ul class=\"toc-item\"><li><span><a href=\"#2-Specific-fluxes-in-terms-of-Fick's-law\" data-toc-modified-id=\"2-Specific-fluxes-in-terms-of-Fick's-law-1.11.1\"><span class=\"toc-item-num\">1.11.1&nbsp;&nbsp;</span>2 Specific fluxes in terms of Fick's law</a></span></li><li><span><a href=\"#3-Discrete-approximation-for-Fick's-law\" data-toc-modified-id=\"3-Discrete-approximation-for-Fick's-law-1.11.2\"><span class=\"toc-item-num\">1.11.2&nbsp;&nbsp;</span>3 Discrete approximation for Fick's law</a></span></li><li><span><a href=\"#What-is-a-reasonable-way-to-do-this?\" data-toc-modified-id=\"What-is-a-reasonable-way-to-do-this?-1.11.3\"><span class=\"toc-item-num\">1.11.3&nbsp;&nbsp;</span>What is a reasonable way to do this?</a></span></li></ul></li><li><span><a href=\"#Putting-it-all-together\" data-toc-modified-id=\"Putting-it-all-together-1.12\"><span class=\"toc-item-num\">1.12&nbsp;&nbsp;</span>Putting it all together</a></span></li><li><span><a href=\"#Reflection\" data-toc-modified-id=\"Reflection-1.13\"><span class=\"toc-item-num\">1.13&nbsp;&nbsp;</span>Reflection</a></span></li></ul></li></ul></div>"
   ]
  },
  {
   "cell_type": "markdown",
   "metadata": {
    "lines_to_next_cell": 0
   },
   "source": [
    "## One dimensional steady-state finite-volume approximation\n",
    "\n",
    "### Summary to this point\n",
    "\n",
    "We have developed a 1-D stencil for a gridblock C to generate an steady-state equation for each interior gridblock:\n",
    "\\begin{align*}\n",
    "\\left(J_{EC}+J_{WC}\\right) &= 0 \\\\\n",
    "\\end{align*}\n",
    "\n",
    "\n",
    "<img src=\"figures/finite_volume_1d_uniform_noxyz.png\" style=\"width: 190px;\" >\n",
    "\n",
    "where the gridblocks are sized $\\Delta x$, $\\Delta y$, $\\Delta z$\n",
    "\n",
    "<img src=\"figures/xyz_single_block.png\" style=\"width: 132px;\" >\n",
    "\n",
    "We use the stencil to generate the equations for a simple 5 - gridblock example:\n",
    "\n",
    "\n",
    "<img src=\"figures/5node-const-c-bc.png\" style=\"height: 110px;\" >\n",
    "\n",
    "We generated the following equations:\n",
    "\n",
    " | Gridblock  | Equation      |\n",
    "  |:----------:|:--------------:|\n",
    "  | 1  | $$c_1 = 2000$$|\n",
    "  | 2  | $$\\left(J_{12}+J_{32}\\right) = 0$$|\n",
    "  | 3  | $$\\left(J_{23}+J_{43}\\right) = 0$$|\n",
    "  | 4  | $$\\left(J_{34}+J_{54}\\right) = 0$$|\n",
    " | 5  | $$c_5 = 93$$|\n",
    "\n",
    " Recall, the equations for gridblock 1 and 5 came from the boundary conditions.\n",
    "\n",
    " **Next**: we need to represent the fluxes such as $J_{12}$ in terms of the dependent variable of interest - concentration. We do that with Fick's law of diffusion."
   ]
  },
  {
   "cell_type": "markdown",
   "metadata": {
    "lines_to_next_cell": 0
   },
   "source": [
    "### Fick's law of diffusion\n",
    "\n",
    "**Concept**: solutes (dissolved substances) move from areas of high concentration to areas of low concentration. (Why?)\n",
    "\n",
    "<img src=\"figures/diffusing.png\" style=\"height: 110px;\" >\n",
    "\n",
    "Intuition:\n",
    "* rate of diffusion is proportional to gradient in concentration\n",
    "* mass flows from high concentrations towards lower concentrations\n",
    "\n",
    "\n",
    "$$ flux \\propto {dc\\over dx}~\\left[{M/L^3 \\over L}\\right]$$\n",
    "\n",
    "***Fick's law*** (the x component)\n",
    "\n",
    "\\begin{align*}\n",
    "j_x = - D {\\partial c\\over \\partial x}\\\\\n",
    "\\end{align*}\n",
    "\n",
    "where\n",
    "* $j_x~\\left[{M\\over L^2 T}\\right]$ is the x-component of the **specific mass flux**,\n",
    "* $D$ is the **diffusion coefficient** and\n",
    "* $\\partial c\\over \\partial x$ is the x-component of the gradient in concentration.\n",
    "\n",
    "\n",
    "### Your turn\n",
    "\n",
    "Why the minus sign in Fick's law?\n",
    "\n"
   ]
  },
  {
   "cell_type": "markdown",
   "metadata": {
    "lines_to_next_cell": 0
   },
   "source": [
    "Your answer here"
   ]
  },
  {
   "cell_type": "markdown",
   "metadata": {
    "lines_to_next_cell": 0
   },
   "source": [
    "### Your turn\n",
    "What are the dimensions of the diffusion coefficient?"
   ]
  },
  {
   "cell_type": "markdown",
   "metadata": {
    "lines_to_next_cell": 0
   },
   "source": [
    "Your answer here"
   ]
  },
  {
   "cell_type": "markdown",
   "metadata": {
    "lines_to_next_cell": 0
   },
   "source": [
    "### Your turn\n",
    "\n",
    "What is the magnitude (value) of the concentration gradient?\n",
    "\n",
    "<img src=\"figures/diff_example_1d.png\" style=\"width: 212px;\" >"
   ]
  },
  {
   "cell_type": "markdown",
   "metadata": {
    "lines_to_next_cell": 0
   },
   "source": [
    "Your answer here"
   ]
  },
  {
   "cell_type": "markdown",
   "metadata": {
    "lines_to_next_cell": 0
   },
   "source": [
    "### Your turn\n",
    "\n",
    "1. What is the direction of the concentration gradient?\n",
    "2. What is the direction in which solutes are diffusing?"
   ]
  },
  {
   "cell_type": "markdown",
   "metadata": {
    "lines_to_next_cell": 0
   },
   "source": [
    "Your answers here."
   ]
  },
  {
   "cell_type": "markdown",
   "metadata": {
    "lines_to_next_cell": 0
   },
   "source": [
    "\n",
    "### Fick's law of diffusion of solutes in porous media\n",
    "\n",
    "We have to modify Fick's law slightly to apply porous media. We need to introduce **porosity** to account for the fact that diffusion only occurs in the pore space.\n",
    "\n",
    "\\begin{align*}\n",
    "j_x = - D {\\partial (c\\theta) \\over \\partial x}\\\\\n",
    "\\end{align*}\n",
    "\n",
    "where\n",
    "* $\\theta ~\\left[{\\cdot}\\right]$ is the  **porosity** (dimensionless)\n",
    "\n",
    "\n"
   ]
  },
  {
   "cell_type": "markdown",
   "metadata": {
    "lines_to_next_cell": 0
   },
   "source": [
    "### Your turn\n",
    "\n",
    "Now let's compute the flux. Consider the same problem as above, where the diffusion coefficient is $D=10^{-10}~m^2/s$, and the porosity is $\\theta = 0.3$.\n",
    "\n",
    "If the area perpendicular to this flux direction is $4\\times10^4~m^2$ (the area of the bottom of a modest tailings pond), how much mass is transported by diffusion in one day?\n",
    "<img src=\"figures/diff_example_1d.png\" style=\"width: 106px;\" >\n",
    "\n",
    "Recall, that the specific flux $j$ is the mass flux of solute per unit area per unit time and that $J=jA$, where $A$ is the area normal to (perpendicular to) the component of flux.\n",
    "\n",
    "<img src=\"figures/flux_normal-area.png\" style=\"width: 100px;\" >"
   ]
  },
  {
   "cell_type": "markdown",
   "metadata": {
    "lines_to_next_cell": 0
   },
   "source": [
    "Your answer here."
   ]
  },
  {
   "cell_type": "markdown",
   "metadata": {
    "lines_to_next_cell": 0
   },
   "source": [
    "#### Aside: Gradients in 3 dimensions\n",
    "\n",
    "The gradient is a vector that points in the direction that a function is *increasing*. In cartesian coordinates, it has $x$, $y$ and $z$ components. The diffuse flux is a gradient that points in the direction that concentration is *decreasing*. Hence the minus sign in Fick's law. So the diffusive flux is also a vector:\n",
    "\\begin{align*}\n",
    "j_x &= - D {\\partial (c\\theta) \\over \\partial x}\\\\\n",
    "j_y &= - D {\\partial (c\\theta)\\over \\partial y}\\\\\n",
    "j_z &= - D {\\partial (c\\theta)\\over \\partial z}\\\\\n",
    "\\end{align*}\n",
    "\n",
    "We've switched to partial derivatives only to indicate that the concentration is a function of several independent variables ($x$, $y$, and $z$). We'll be pretty loose with our partials and non-partials (impartials??!), but it is almost always clear from the context what is meant.\n",
    "\n",
    "\n"
   ]
  },
  {
   "cell_type": "markdown",
   "metadata": {
    "lines_to_next_cell": 0
   },
   "source": [
    "### Gridblock fluxes in terms of concentrations\n",
    "\n",
    "We'll do this in three steps:\n",
    "1. We'll write the total fluxes in terms of specific fluxes.\n",
    "2. We'll write specific fluxes in terms of Fick's law.\n",
    "3. We'll introduce a discrete approximation for Fick's law.\n",
    "\n",
    "####  1 Total fluxes as specific fluxes\n",
    "\n",
    "Let's look at our stencil equation:\n",
    "$$\n",
    "J_{WC}+J_{EC} =0\n",
    "$$\n",
    "\n",
    "First, let's express the total fluxes in terms of specific fluxes:\n",
    "\n",
    "$$J_{WC}=j_{WC}A$$\n",
    "\n",
    "### Your turn\n",
    "\n",
    "<img src=\"figures/jwc-numbers.png\" style=\"width: 200px;\" >\n",
    "\n",
    "What is the correct value of the area $A$ to write $J_{WC}$ in terms of $j_{WC}$ for this example?\n"
   ]
  },
  {
   "cell_type": "markdown",
   "metadata": {
    "lines_to_next_cell": 0
   },
   "source": [
    "Your answer here:\n",
    "\n",
    "$A=   $"
   ]
  },
  {
   "cell_type": "markdown",
   "metadata": {
    "lines_to_next_cell": 0
   },
   "source": [
    "### Your turn\n",
    "\n",
    "\n",
    "<img src=\"figures/jwc-general.png\" style=\"width: 200px;\" >\n",
    "\n",
    "What is the correct value of the area $A$ to write $J_{WC}$ in terms of $j_{WC}$ for the general case above?\n"
   ]
  },
  {
   "cell_type": "markdown",
   "metadata": {
    "lines_to_next_cell": 0
   },
   "source": [
    "Your answer here:\n",
    "$ A = $\n",
    "\n",
    "(remember to write $\\Delta$ use `$\\Delta $` - or don't bother with math type."
   ]
  },
  {
   "cell_type": "markdown",
   "metadata": {
    "lines_to_next_cell": 0
   },
   "source": [
    "#### 2 Specific fluxes in terms of Fick's law\n",
    "\n",
    "For a gridblock C oriented as below, what is the appropriate component of Fick's law?\n",
    "\n",
    "<img src=\"figures/jwc-general.png\" style=\"width: 200px;\" >\n",
    "\n",
    "Choose one of (erase the two that are incorrect):\n",
    "\\begin{align*}\n",
    "j_x &= - D {\\partial (c\\theta) \\over \\partial x}\\\\\n",
    "j_y &= - D {\\partial (c\\theta)\\over \\partial y}\\\\\n",
    "j_z &= - D {\\partial (c\\theta)\\over \\partial z}\\\\\n",
    "\\end{align*}\n",
    "\n",
    "\n"
   ]
  },
  {
   "cell_type": "markdown",
   "metadata": {
    "lines_to_next_cell": 0
   },
   "source": [
    "#### 3 Discrete approximation for Fick's law\n",
    "\n",
    "We need a way to approximate specific fluxes such as $j_x = - D {\\partial (c\\theta) \\over \\partial x}$ in terms of concentrations at nodal values in the centre of gridblocks as shown below.\n",
    "\n",
    "<img src=\"figures/1d_stencil_w_nodes.png\" style=\"width: 200px;\" >\n",
    "\n",
    "#### What is a reasonable way to do this?"
   ]
  },
  {
   "cell_type": "markdown",
   "metadata": {
    "lines_to_next_cell": 0
   },
   "source": [
    "Describe in words how you would approach this."
   ]
  },
  {
   "cell_type": "markdown",
   "metadata": {},
   "source": [
    "### Putting it all together\n",
    "\n",
    "Can you use the three steps above to re-write the stencil\n",
    "\n",
    "$$\n",
    "J_{WC}+J_{EC} =0\n",
    "$$\n",
    "\n",
    "In terms of concentration? We'll reveal the answer next...\n",
    "\n",
    "\n",
    "### Reflection\n",
    "\n",
    "What have you learned? What have you struggled with? Some thoughts below. Reflect on anything else you have learned or struggled with and write it here.\n"
   ]
  }
 ],
 "metadata": {
  "jupytext": {
   "cell_metadata_filter": "all",
   "formats": "",
   "notebook_metadata_filter": "all",
   "text_representation": {
    "extension": ".py",
    "format_name": "percent",
    "format_version": "1.2",
    "jupytext_version": "1.0.0-rc2"
   }
  },
  "kernelspec": {
   "display_name": "Python 3",
   "language": "python",
   "name": "python3"
  },
  "language_info": {
   "codemirror_mode": {
    "name": "ipython",
    "version": 3
   },
   "file_extension": ".py",
   "mimetype": "text/x-python",
   "name": "python",
   "nbconvert_exporter": "python",
   "pygments_lexer": "ipython3",
   "version": "3.7.3"
  },
  "toc": {
   "base_numbering": 1,
   "nav_menu": {},
   "number_sections": true,
   "sideBar": true,
   "skip_h1_title": false,
   "title_cell": "Table of Contents",
   "title_sidebar": "Contents",
   "toc_cell": true,
   "toc_position": {},
   "toc_section_display": true,
   "toc_window_display": true
  }
 },
 "nbformat": 4,
 "nbformat_minor": 2
}
