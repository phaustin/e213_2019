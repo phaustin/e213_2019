{
 "cells": [
  {
   "cell_type": "markdown",
   "metadata": {
    "toc": true
   },
   "source": [
    "<h1>Table of Contents<span class=\"tocSkip\"></span></h1>\n",
    "<div class=\"toc\"><ul class=\"toc-item\"><li><span><a href=\"#Cross-reference-examples\" data-toc-modified-id=\"Cross-reference-examples-1\"><span class=\"toc-item-num\">1&nbsp;&nbsp;</span>Cross reference examples</a></span><ul class=\"toc-item\"><li><span><a href=\"#2D-transient-diffusion\" data-toc-modified-id=\"2D-transient-diffusion-1.1\"><span class=\"toc-item-num\">1.1&nbsp;&nbsp;</span>2D transient diffusion</a></span><ul class=\"toc-item\"><li><span><a href=\"#Flux-boundary-conditions\" data-toc-modified-id=\"Flux-boundary-conditions-1.1.1\"><span class=\"toc-item-num\">1.1.1&nbsp;&nbsp;</span>Flux boundary conditions</a></span></li></ul></li><li><span><a href=\"#Here-is-a-reference-to-a-section-in-another-ipynb-file\" data-toc-modified-id=\"Here-is-a-reference-to-a-section-in-another-ipynb-file-1.2\"><span class=\"toc-item-num\">1.2&nbsp;&nbsp;</span>Here is a reference to a section in another ipynb file</a></span></li></ul></li></ul></div>"
   ]
  },
  {
   "cell_type": "markdown",
   "metadata": {},
   "source": [
    "# Cross reference examples\n",
    "\n",
    "Show how to link out of a notebook into a review document."
   ]
  },
  {
   "cell_type": "markdown",
   "metadata": {},
   "source": [
    "## Here is a reference to a rst file"
   ]
  },
  {
   "cell_type": "markdown",
   "metadata": {},
   "source": [
    "## 2D transient diffusion\n",
    "\n",
    "Recall our example timestep, shown [in this link](review_page.html#detaileexample)"
   ]
  },
  {
   "cell_type": "markdown",
   "metadata": {},
   "source": [
    "### Flux boundary conditions\n",
    "\n",
    "Remember that we specifiy a flux boundary condition [this way](review_page.html#fluxboundary)"
   ]
  },
  {
   "cell_type": "markdown",
   "metadata": {},
   "source": [
    "## Here is a reference to a section in another ipynb file"
   ]
  },
  {
   "cell_type": "markdown",
   "metadata": {},
   "source": [
    "And recall Section 5 of the [6_finite_volume_5.ipynb notebook](6_finite_volume_5.ipynb#5---gridblock-example)"
   ]
  }
 ],
 "metadata": {
  "jupytext": {
   "cell_metadata_filter": "all",
   "formats": "ipynb",
   "main_language": "python",
   "notebook_metadata_filter": "all",
   "text_representation": {
    "extension": ".py",
    "format_name": "percent",
    "format_version": "1.2",
    "jupytext_version": "1.0.0"
   }
  },
  "kernelspec": {
   "display_name": "Python 3",
   "language": "python",
   "name": "python3"
  },
  "language_info": {
   "codemirror_mode": {
    "name": "ipython",
    "version": 3
   },
   "file_extension": ".py",
   "mimetype": "text/x-python",
   "name": "python",
   "nbconvert_exporter": "python",
   "pygments_lexer": "ipython3",
   "version": "3.6.7"
  },
  "toc": {
   "base_numbering": 1,
   "nav_menu": {},
   "number_sections": true,
   "sideBar": true,
   "skip_h1_title": false,
   "title_cell": "Table of Contents",
   "title_sidebar": "Contents",
   "toc_cell": true,
   "toc_position": {},
   "toc_section_display": true,
   "toc_window_display": true
  }
 },
 "nbformat": 4,
 "nbformat_minor": 2
}
