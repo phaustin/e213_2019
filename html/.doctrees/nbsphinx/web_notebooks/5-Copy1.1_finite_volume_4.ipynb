{
 "cells": [
  {
   "cell_type": "markdown",
   "metadata": {
    "lines_to_next_cell": 0,
    "toc": true
   },
   "source": [
    "<h1>Table of Contents<span class=\"tocSkip\"></span></h1>\n",
    "<div class=\"toc\"><ul class=\"toc-item\"><li><span><a href=\"#One-dimensional-steady-state-finite-volume-approximation\" data-toc-modified-id=\"One-dimensional-steady-state-finite-volume-approximation-1\"><span class=\"toc-item-num\">1&nbsp;&nbsp;</span>One dimensional steady-state finite-volume approximation</a></span><ul class=\"toc-item\"><li><span><a href=\"#Summary-to-this-point\" data-toc-modified-id=\"Summary-to-this-point-1.1\"><span class=\"toc-item-num\">1.1&nbsp;&nbsp;</span>Summary to this point</a></span></li><li><span><a href=\"#Fick's-law-of-diffusion\" data-toc-modified-id=\"Fick's-law-of-diffusion-1.2\"><span class=\"toc-item-num\">1.2&nbsp;&nbsp;</span>Fick's law of diffusion</a></span></li><li><span><a href=\"#Your-turn\" data-toc-modified-id=\"Your-turn-1.3\"><span class=\"toc-item-num\">1.3&nbsp;&nbsp;</span>Your turn</a></span></li><li><span><a href=\"#Your-turn\" data-toc-modified-id=\"Your-turn-1.4\"><span class=\"toc-item-num\">1.4&nbsp;&nbsp;</span>Your turn</a></span></li><li><span><a href=\"#Your-turn\" data-toc-modified-id=\"Your-turn-1.5\"><span class=\"toc-item-num\">1.5&nbsp;&nbsp;</span>Your turn</a></span></li><li><span><a href=\"#Your-turn\" data-toc-modified-id=\"Your-turn-1.6\"><span class=\"toc-item-num\">1.6&nbsp;&nbsp;</span>Your turn</a></span></li><li><span><a href=\"#Fick's-law-of-diffusion-of-solutes-in-porous-media\" data-toc-modified-id=\"Fick's-law-of-diffusion-of-solutes-in-porous-media-1.7\"><span class=\"toc-item-num\">1.7&nbsp;&nbsp;</span>Fick's law of diffusion of solutes in porous media</a></span></li><li><span><a href=\"#Your-turn\" data-toc-modified-id=\"Your-turn-1.8\"><span class=\"toc-item-num\">1.8&nbsp;&nbsp;</span>Your turn</a></span><ul class=\"toc-item\"><li><span><a href=\"#Aside:-Gradients-in-3-dimensions\" data-toc-modified-id=\"Aside:-Gradients-in-3-dimensions-1.8.1\"><span class=\"toc-item-num\">1.8.1&nbsp;&nbsp;</span>Aside: Gradients in 3 dimensions</a></span></li></ul></li><li><span><a href=\"#Gridblock-fluxes-in-terms-of-concentrations\" data-toc-modified-id=\"Gridblock-fluxes-in-terms-of-concentrations-1.9\"><span class=\"toc-item-num\">1.9&nbsp;&nbsp;</span>Gridblock fluxes in terms of concentrations</a></span><ul class=\"toc-item\"><li><span><a href=\"#1-Total-fluxes-as-specific-fluxes\" data-toc-modified-id=\"1-Total-fluxes-as-specific-fluxes-1.9.1\"><span class=\"toc-item-num\">1.9.1&nbsp;&nbsp;</span>1 Total fluxes as specific fluxes</a></span></li></ul></li><li><span><a href=\"#Your-turn\" data-toc-modified-id=\"Your-turn-1.10\"><span class=\"toc-item-num\">1.10&nbsp;&nbsp;</span>Your turn</a></span></li><li><span><a href=\"#Your-turn\" data-toc-modified-id=\"Your-turn-1.11\"><span class=\"toc-item-num\">1.11&nbsp;&nbsp;</span>Your turn</a></span><ul class=\"toc-item\"><li><span><a href=\"#2-Specific-fluxes-in-terms-of-Fick's-law\" data-toc-modified-id=\"2-Specific-fluxes-in-terms-of-Fick's-law-1.11.1\"><span class=\"toc-item-num\">1.11.1&nbsp;&nbsp;</span>2 Specific fluxes in terms of Fick's law</a></span></li><li><span><a href=\"#3-Discrete-approximation-for-Fick's-law\" data-toc-modified-id=\"3-Discrete-approximation-for-Fick's-law-1.11.2\"><span class=\"toc-item-num\">1.11.2&nbsp;&nbsp;</span>3 Discrete approximation for Fick's law</a></span></li><li><span><a href=\"#What-is-a-reasonable-way-to-do-this?\" data-toc-modified-id=\"What-is-a-reasonable-way-to-do-this?-1.11.3\"><span class=\"toc-item-num\">1.11.3&nbsp;&nbsp;</span>What is a reasonable way to do this?</a></span></li><li><span><a href=\"#gridblock-4:\" data-toc-modified-id=\"gridblock-4:-1.11.4\"><span class=\"toc-item-num\">1.11.4&nbsp;&nbsp;</span>gridblock 4:</a></span></li><li><span><a href=\"#Boundary-value-problem-checklist\" data-toc-modified-id=\"Boundary-value-problem-checklist-1.11.5\"><span class=\"toc-item-num\">1.11.5&nbsp;&nbsp;</span>Boundary value problem checklist</a></span></li></ul></li></ul></li><li><span><a href=\"#Context\" data-toc-modified-id=\"Context-2\"><span class=\"toc-item-num\">2&nbsp;&nbsp;</span>Context</a></span></li><li><span><a href=\"#Link-to-the-TMF-problem\" data-toc-modified-id=\"Link-to-the-TMF-problem-3\"><span class=\"toc-item-num\">3&nbsp;&nbsp;</span>Link to the TMF problem</a></span></li><li><span><a href=\"#General-idea-between\" data-toc-modified-id=\"General-idea-between-4\"><span class=\"toc-item-num\">4&nbsp;&nbsp;</span>General idea between</a></span></li><li><span><a href=\"#Continuity-equation\" data-toc-modified-id=\"Continuity-equation-5\"><span class=\"toc-item-num\">5&nbsp;&nbsp;</span>Continuity equation</a></span><ul class=\"toc-item\"><li><span><a href=\"#The-continuity-equation\" data-toc-modified-id=\"The-continuity-equation-5.1\"><span class=\"toc-item-num\">5.1&nbsp;&nbsp;</span>The continuity equation</a></span></li><li><span><a href=\"#Physical-interpretation-of-the-divergence\" data-toc-modified-id=\"Physical-interpretation-of-the-divergence-5.2\"><span class=\"toc-item-num\">5.2&nbsp;&nbsp;</span>Physical interpretation of the divergence</a></span></li></ul></li></ul></div>"
   ]
  },
  {
   "cell_type": "markdown",
   "metadata": {
    "lines_to_next_cell": 0
   },
   "source": [
    "## One dimensional steady-state finite-volume approximation\n",
    "\n",
    "### Summary to this point\n",
    "\n",
    "We have developed a 1-D stencil for a gridblock C to generate an steady-state equation for each interior gridblock:\n",
    "\\begin{align*}\n",
    "\\left(J_{EC}+J_{WC}\\right) &= 0 \\\\\n",
    "\\end{align*}\n",
    "\n",
    "\n",
    "![](figures/finite_volume_1d_uniform_noxyz.png)\n",
    "\n",
    "where the gridblocks are sized $\\Delta x$, $\\Delta y$, $\\Delta z$\n",
    "\n",
    "![](figures/xyz_single_block.png)\n",
    "\n",
    "We use the stencil to generate the equations for a simple 5 - gridblock example:\n",
    "\n",
    "\n",
    "![](figures/5node-const-c-bc.png)\n",
    "\n",
    "We generated the following equations:\n",
    "\n",
    " | Gridblock  | Equation      |\n",
    "  |:----------:|:--------------:|\n",
    "  | 1  | $$c_1 = 2000$$|\n",
    "  | 2  | $$\\left(J_{12}+J_{32}\\right) = 0$$|\n",
    "  | 3  | $$\\left(J_{23}+J_{43}\\right) = 0$$|\n",
    "  | 4  | $$\\left(J_{34}+J_{54}\\right) = 0$$|\n",
    " | 5  | $$c_5 = 93$$|\n",
    "\n",
    " Recall, the equations for gridblock 1 and 5 came from the boundary conditions.\n",
    "\n",
    " **Next**: we need to represent the fluxes such as $J_{12}$ in terms of the dependent variable of interest - concentration. We do that with Fick's law of diffusion."
   ]
  },
  {
   "cell_type": "markdown",
   "metadata": {
    "lines_to_next_cell": 0
   },
   "source": [
    "### Fick's law of diffusion\n",
    "\n",
    "**Concept**: solutes (dissolved substances) move from areas of high concentration to areas of low concentration. (Why?)\n",
    "\n",
    "![](figures/diffusing.png)\n",
    "\n",
    "Intuition:\n",
    "* rate of diffusion is proportional to gradient in concentration\n",
    "* mass flows from high concentrations towards lower concentrations\n",
    "\n",
    "\n",
    "$$ flux \\propto {dc\\over dx}~\\left[{M/L^3 \\over L}\\right]$$\n",
    "\n",
    "***Fick's law*** (the x component)\n",
    "\n",
    "\\begin{align*}\n",
    "j_x = - D {\\partial c\\over \\partial x}\\\\\n",
    "\\end{align*}\n",
    "\n",
    "where\n",
    "* $j_x~\\left[{M\\over L^2 T}\\right]$ is the x-component of the **specific mass flux**,\n",
    "* $D$ is the **diffusion coefficient** and\n",
    "* $\\partial c\\over \\partial x$ is the x-component of the gradient in concentration.\n",
    "\n",
    "\n",
    "### Your turn\n",
    "\n",
    "Why the minus sign in Fick's law?\n",
    "\n"
   ]
  },
  {
   "cell_type": "markdown",
   "metadata": {
    "lines_to_next_cell": 0
   },
   "source": [
    "Your answer here"
   ]
  },
  {
   "cell_type": "markdown",
   "metadata": {
    "lines_to_next_cell": 0
   },
   "source": [
    "### Your turn\n",
    "What are the dimensions of the diffusion coefficient?"
   ]
  },
  {
   "cell_type": "markdown",
   "metadata": {
    "lines_to_next_cell": 0
   },
   "source": [
    "Your answer here"
   ]
  },
  {
   "cell_type": "markdown",
   "metadata": {
    "lines_to_next_cell": 0
   },
   "source": [
    "### Your turn\n",
    "\n",
    "What is the magnitude (value) of the concentration gradient?\n",
    "\n",
    "![](figures/diff_example_1d.png)"
   ]
  },
  {
   "cell_type": "markdown",
   "metadata": {
    "lines_to_next_cell": 0
   },
   "source": [
    "Your answer here"
   ]
  },
  {
   "cell_type": "markdown",
   "metadata": {
    "lines_to_next_cell": 0
   },
   "source": [
    "### Your turn\n",
    "\n",
    "1. What is the direction of the concentration gradient?\n",
    "2. What is the direction in which solutes are diffusing?"
   ]
  },
  {
   "cell_type": "markdown",
   "metadata": {
    "lines_to_next_cell": 0
   },
   "source": [
    "Your answers here."
   ]
  },
  {
   "cell_type": "markdown",
   "metadata": {
    "lines_to_next_cell": 0
   },
   "source": [
    "\n",
    "### Fick's law of diffusion of solutes in porous media\n",
    "\n",
    "We have to modify Fick's law slightly to apply porous media. We need to introduce **porosity** to account for the fact that diffusion only occurs in the pore space.\n",
    "\n",
    "\\begin{align*}\n",
    "j_x = - D {\\partial (c\\theta) \\over \\partial x}\\\\\n",
    "\\end{align*}\n",
    "\n",
    "where\n",
    "* $\\theta ~\\left[{\\cdot}\\right]$ is the  **porosity** (dimensionless)\n",
    "\n",
    "\n"
   ]
  },
  {
   "cell_type": "markdown",
   "metadata": {
    "lines_to_next_cell": 0
   },
   "source": [
    "### Your turn\n",
    "\n",
    "Now let's compute the flux. Consider the same problem as above, where the diffusion coefficient is $D=10^{-10}~m^2/s$, and the porosity is $\\theta = 0.3$.\n",
    "\n",
    "If the area perpendicular to this flux direction is $4\\times10^4~m^2$ (the area of the bottom of a modest tailings pond), how much mass is transported by diffusion in one day?\n",
    "![](figures/diff_example_1d.png)\n",
    "\n",
    "Recall, that the specific flux $j$ is the mass flux of solute per unit area per unit time and that $J=jA$, where $A$ is the area normal to (perpendicular to) the component of flux.\n",
    "\n",
    "![](figures/flux_normal-area.png)"
   ]
  },
  {
   "cell_type": "markdown",
   "metadata": {
    "lines_to_next_cell": 0
   },
   "source": [
    "Your answer here."
   ]
  },
  {
   "cell_type": "markdown",
   "metadata": {
    "lines_to_next_cell": 0
   },
   "source": [
    "#### Aside: Gradients in 3 dimensions\n",
    "\n",
    "The gradient is a vector that points in the direction that a function is *increasing*. In cartesian coordinates, it has $x$, $y$ and $z$ components. The diffuse flux is a gradient that points in the direction that concentration is *decreasing*. Hence the minus sign in Fick's law. So the diffusive flux is also a vector:\n",
    "\\begin{align*}\n",
    "j_x &= - D {\\partial (c\\theta) \\over \\partial x}\\\\\n",
    "j_y &= - D {\\partial (c\\theta)\\over \\partial y}\\\\\n",
    "j_z &= - D {\\partial (c\\theta)\\over \\partial z}\\\\\n",
    "\\end{align*}\n",
    "\n",
    "We've switched to partial derivatives only to indicate that the concentration is a function of several independent variables ($x$, $y$, and $z$). We'll be pretty loose with our partials and non-partials (impartials??!), but it is almost always clear from the context what is meant.\n",
    "\n",
    "\n"
   ]
  },
  {
   "cell_type": "markdown",
   "metadata": {
    "lines_to_next_cell": 0
   },
   "source": [
    "### Gridblock fluxes in terms of concentrations\n",
    "\n",
    "We'll do this in three steps:\n",
    "1. We'll write the total fluxes in terms of specific fluxes.\n",
    "2. We'll write specific fluxes in terms of Fick's law.\n",
    "3. We'll introduce a discrete approximation for Fick's law.\n",
    "\n",
    "####  1 Total fluxes as specific fluxes\n",
    "\n",
    "Let's look at our stencil equation:\n",
    "$$\n",
    "J_{WC}+J_{EC} =0\n",
    "$$\n",
    "\n",
    "First, let's express the total fluxes in terms of specific fluxes:\n",
    "\n",
    "$$J_{WC}=j_{WC}A$$\n",
    "\n",
    "### Your turn\n",
    "\n",
    "![](figures/jwc-numbers.png)\n",
    "\n",
    "What is the correct value of the area $A$ to write $J_{WC}$ in terms of $j_{WC}$ for this example?\n"
   ]
  },
  {
   "cell_type": "markdown",
   "metadata": {
    "lines_to_next_cell": 0
   },
   "source": [
    "Your answer here:\n",
    "\n",
    "$A=   $"
   ]
  },
  {
   "cell_type": "markdown",
   "metadata": {
    "lines_to_next_cell": 0
   },
   "source": [
    "### Your turn\n",
    "\n",
    "\n",
    "![](figures/jwc-general.png)\n",
    "\n",
    "What is the correct value of the area $A$ to write $J_{WC}$ in terms of $j_{WC}$ for the general case above?\n"
   ]
  },
  {
   "cell_type": "markdown",
   "metadata": {
    "lines_to_next_cell": 0
   },
   "source": [
    "Your answer here:\n",
    "$ A = $\n",
    "\n",
    "(remember to write $\\Delta$ use `$\\Delta$` - or don't bother with math type."
   ]
  },
  {
   "cell_type": "markdown",
   "metadata": {
    "lines_to_next_cell": 0
   },
   "source": [
    "#### 2 Specific fluxes in terms of Fick's law\n",
    "\n",
    "For a gridblock C oriented as below, what is the appropriate component of Fick's law?\n",
    "\n",
    "![](figures/jwc-general.png)\n",
    "\n",
    "Choose one of (erase the two that are incorrect):\n",
    "\\begin{align*}\n",
    "j_x &= - D {\\partial (c\\theta) \\over \\partial x}\\\\\n",
    "j_y &= - D {\\partial (c\\theta)\\over \\partial y}\\\\\n",
    "j_z &= - D {\\partial (c\\theta)\\over \\partial z}\\\\\n",
    "\\end{align*}\n",
    "\n",
    "\n"
   ]
  },
  {
   "cell_type": "markdown",
   "metadata": {
    "lines_to_next_cell": 0
   },
   "source": [
    "#### 3 Discrete approximation for Fick's law\n",
    "\n",
    "We need a way to approximate specific fluxes such as $j_x = - D {\\partial (c\\theta) \\over \\partial x}$ in terms of concentrations at nodal values in the centre of gridblocks as shown below.\n",
    "\n",
    "![](figures/1d_stencil_w_nodes.png)\n",
    "\n",
    "#### What is a reasonable way to do this?"
   ]
  },
  {
   "cell_type": "markdown",
   "metadata": {
    "lines_to_next_cell": 0
   },
   "source": [
    "Describe in words how you would approach this."
   ]
  },
  {
   "cell_type": "markdown",
   "metadata": {
    "lines_to_next_cell": 0
   },
   "source": [
    "#### gridblock 4:\n",
    "![](figures/block4_eq.png)\n",
    "\n",
    "Change this stencil to the correct equation for gridblock 4.\n",
    "$$\n",
    "J_{WC}+J_{EC} =0\n",
    "$$\n"
   ]
  },
  {
   "cell_type": "markdown",
   "metadata": {
    "lines_to_next_cell": 0
   },
   "source": [
    "![](figures/finite_volume_1d_uniform_vert.png)\n"
   ]
  },
  {
   "cell_type": "code",
   "execution_count": null,
   "metadata": {
    "lines_to_next_cell": 0
   },
   "outputs": [],
   "source": []
  },
  {
   "cell_type": "markdown",
   "metadata": {
    "lines_to_next_cell": 0
   },
   "source": [
    "\n",
    "#### Boundary value problem checklist\n",
    "To solve a boundary value problem requires:\n",
    "1. knowledge of the equations that govern the dependent variable.\n",
    "2. specification of the problem domain.\n",
    "3. specification of properties of the problem domain.\n",
    "4. the value of the dependent variable or its derivatives on the boundary.\n",
    "\n",
    "Let's go through the checklist for our problem.\n",
    "1. we have not developed these yet, but we are going to use conservation of mass and an expression for diffusion to develop the equations that govern concentration.\n",
    "\n",
    "\n",
    "\n"
   ]
  },
  {
   "cell_type": "markdown",
   "metadata": {
    "lines_to_next_cell": 0
   },
   "source": [
    "Why go to the trouble with the fancy math? Couple of reasons:\n",
    "* it is the most succinct and unambiguous way to state a physical principle. In that sense, mathematics is a  language with a grammar and rules that allow one to make precise statements. We use the *language* of mathematics to write\n",
    "*literature*: precise descriptions of physical systems .\n",
    "* once we have a mathematical description, we can use the grammar rules of mathematics and manipulate the expressions to, for example, simplify them, or use calculus to derive solutions to our expressions.\n",
    "\n"
   ]
  },
  {
   "cell_type": "markdown",
   "metadata": {
    "lines_to_next_cell": 0
   },
   "source": [
    "\n",
    "\n",
    "## Context\n",
    "\n",
    "So far we have solved 0 dimensional problems:\n",
    "\n",
    "- we have considered the mass of water to be given by one value\n",
    "- we have considered that the concentration of sulfates was given by one value and that this value was the same at any point in the TMF.\n",
    "\n",
    "In reality, the concentration of sulfates is not necessarily the same everywhere, and the spatial distribution or evolution of the contaminant is important to know.\n",
    "\n",
    "Consider a factory releasing a contaminant: this contaminant will be transported in space and time.\n",
    "\n",
    "- if the factory releases this contaminant in a river, it will follow the river current\n",
    "- if it is released in the atmosphere, it will follow windspeed\n",
    "- if is is released in the groundwater, it will follow the groundwater flow\n",
    "\n",
    "But the windspeed, the river current, the groundwater flow are not the same everywhere (they are not uniform). If we want to be able to predict where the contaminant goes, we need to understand which processes are responsible for its movement.\n",
    "\n",
    "In a 3 dimensional space, the concentration can be different at every point in space. But also, the concentration at each point in space can evolve in time. In general, the concentration will be described by a function $c(x,y,z,t)$ which represents the concentration at each point of coordinates $(x,y,z)$ for each time $t$.\n",
    "\n",
    "When we have developped Euler's approaches, we have divided into small intervals. We are going to do the same with space. This is called **discretization**. It is the idea of splitting a variable who can take any value on a real axis into subdomains where this variable is supposed to be constant.\n",
    "\n",
    "![](figures/figDisc.png)\n",
    "\n",
    "Without a discretization, we would have to solve a problem for each possible $(x,y,z)$, which would be impossible.\n"
   ]
  },
  {
   "cell_type": "markdown",
   "metadata": {
    "lines_to_next_cell": 0
   },
   "source": [
    "## Link to the TMF problem\n",
    "\n",
    "To introduce this spatial behaviour, let us go back to the TMF problem. The conceptual model could be expressed like this:\n",
    "![](figures/figTMF.png)\n",
    "\n",
    "This \"spatial\" view of the method we have applied corresponds precisely to the finite volume - difference method we will use. In our problem, we were only interested in one \"point\" in space, the TMF. This \"point\" representation of this TMF actually arises from a discretization of space.\n",
    "\n",
    "We have computed the evolution the mass/concentration of sulfates in that \"point\" by computing the fluxes which were going in and out of this \"point\".\n",
    "\n",
    "What if the amount of sulfates in the pit/mill was not \"infinite\" (constant in all time)? Well, that would mean that $c_{\\text{pit}}$ would decrease during time, and the flux incoming from the pit would decrease as well. If that is the case, we now need to add another equation to compute the evolution of the concentration in the pit, and also a formulation which links the flux between the pit/mill towards the TMF.\n",
    "\n",
    "That is the central idea for the resolution of any transient (not steady) problem including spatial variation. The evolution of the concentration at each point of interest during a certain time is computed by\n",
    "\n",
    "- summing all the fluxes going in - all the fluxes going out\n",
    "- considering these fluxes are constant in time during that period of time ( // Euler's method).\n",
    "\n",
    "So what we need, is to be able to compute these fluxes.\n",
    "\n",
    "Watch out, in physics, flux is usually defined as the amount (of matter, energy, ...) which goes through a surface per unit of time. A mass flux is described in kg/m$^2$/s. Above, we have described a \"flux\" in mg/s. In the following, flux $\\phi$ will be denoted in units of Mass per unit of surface per unit of time."
   ]
  },
  {
   "cell_type": "markdown",
   "metadata": {
    "lines_to_next_cell": 0
   },
   "source": [
    "## General idea between\n",
    "If we focus on the central volume here, it might exchange fluxes $\\phi$ with its neighbouring volumes. In a 2D space, central volume $i$ has 4 neighbours: North-East-South-West, with whom it can exchange matter (or energy, ...).\n",
    "\n",
    "![](figures/figFV.png)\n",
    "\n",
    "\n",
    "\n",
    "So, if we know the mass-flux between volume $i$ and volume North, $\\phi_{i\\rightarrow \\text{North}}$, that means that the mass in volume $i$ is evolving by the amount:\n",
    "\n",
    "\\begin{equation}\n",
    "\\frac{dM}{dt} = \\sum_j \\phi_{j\\rightarrow i} S_{ij}\n",
    "\\end{equation}\n",
    "\n",
    "where $j$ represents the set of every neighbour (here North, East, South, West). In 1D, there are 2 neighbours, in 3D, there are 6 neighbours.\n",
    "\n",
    "Where S is the surface (in m$^2$) of the interface between volumes i and North. So, to compute the evolution of mass in volume $i$, we only need to find the values of the different fluxes.\n",
    "\n",
    "The idea behind the space discretization is that, in each \"volume\", the concentration is uniform and has only one value. That also means that, on every surface separating two volumes, the fluxes are uniform."
   ]
  },
  {
   "cell_type": "markdown",
   "metadata": {
    "lines_to_next_cell": 0
   },
   "source": [
    "## Continuity equation\n",
    "\n",
    "### The continuity equation\n",
    "\n",
    "Multiplying both ends by the volume of water $V_0$ yields:\n",
    "\n",
    "So, if the concentration is uniform in the volume $V$, that means that the mass can be obtained by:\n",
    "\n",
    "\\begin{equation}\n",
    "M = \\int_V c dV = c \\int_V dV = cV\n",
    "\\end{equation}\n",
    "\n",
    "The evolution of the mass arises from the different fluxes\n",
    "\n",
    "\\begin{equation}\n",
    "\\frac{\\Delta M}{\\Delta t} = \\sum_j \\phi_{j\\rightarrow i} S_{ij} = -R\n",
    "\\end{equation}\n",
    "\n",
    "The rate of matter evolution $R$ (mg/s) through any surface is usually given by the integral of the flux over the surface:\n",
    "\\begin{equation}\n",
    "R = \\oint_S \\overrightarrow{\\phi}d\\overrightarrow{S}\n",
    "\\end{equation}\n",
    "\n",
    "where $d\\overrightarrow{S}$ represents the unit normal vector oriented towards the outside of the closed surface. So, $R$ is positive when matters is going out ot the volume. This surface integral can be decomposed, in our cases, as the sum over the 4 straight lines delimiting our volume. And, since the flux is uniform through these straight lines, this integral becomes straightforward to compute:\n",
    "\n",
    "\\begin{equation}\n",
    "\\begin{array}{lll}\n",
    "R & = & \\displaystyle{ \\oint_S \\overrightarrow{\\phi}d\\overrightarrow{S}} \\\\\n",
    "  & = & \\int_{S_{\\textrm{North}}} \\phi_{\\textrm{North}} dS + \\int_{S_{\\textrm{East}}} \\phi_{\\textrm{East}} dS + ... \\\\\n",
    "  & = & \\phi_{\\textrm{North}} \\int_{S_{\\textrm{North}}}  dS + \\phi_{\\textrm{East}} \\int_{S_{\\textrm{East}}}  dS + ... \\\\\n",
    "  & = & \\phi_{\\textrm{North}}S_{\\textrm{North}} + \\phi_{\\textrm{East}}S_{\\textrm{East}} + \\phi_{\\textrm{South}}S_{\\textrm{South}} + \\phi_{\\textrm{West}}S_{\\textrm{West}}   \\\\\n",
    "  & = & \\sum_j \\phi_{i\\rightarrow j} S_{ij}\n",
    "\\end{array}\n",
    "\\end{equation}\n",
    "\n",
    "But there is a math theorem (Green-Ostrogradski) which also states that\n",
    "\n",
    "The rate of matter evolution $R$ (mg/s) through any surface is usually given by the integral of the flux over the surface:\n",
    "\\begin{equation}\n",
    "\\oint_{S(V)} \\overrightarrow{\\phi}d\\overrightarrow{S} = \\int_V \\mathrm{div} \\overrightarrow{\\phi}\n",
    "\\end{equation}\n",
    "\n",
    "This is the \"divergence\" theorem. The divergence operator is defined as:\n",
    "\n",
    "\\begin{equation}\n",
    "\\mathrm{div} \\overrightarrow{\\phi} = \\overrightarrow{\\nabla} \\cdot \\overrightarrow{\\phi}\n",
    "\\end{equation}\n",
    "\n",
    "So, combining the different equation together, we get\n",
    "\n",
    "\\begin{equation}\n",
    "\\begin{array}{llll}\n",
    " & \\frac{dm}{dt} & = & \\sum_j \\phi_{j\\rightarrow i} S_{ij} \\\\\n",
    "\\Longleftrightarrow & \\displaystyle{\\frac{d}{dt} \\int_V c dV} & = & \\displaystyle{ - \\oint_S \\overrightarrow{\\phi}d\\overrightarrow{S}} \\\\\n",
    "\\Longleftrightarrow & \\displaystyle{\\frac{d}{dt} \\int_V c dV} & = & \\displaystyle{ - \\int_V \\mathrm{div} \\overrightarrow{\\phi} dV}\n",
    "\\end{array}\n",
    "\\end{equation}\n",
    "\n",
    "And, since the integral over the same volume $V$ has to be equal on both sides, that means that what is inside the integrals have to be equal, which gives the divergence equation:\n",
    "\n",
    "\\begin{equation}\n",
    "\\frac{dc}{dt} + \\mathrm{div} \\overrightarrow{\\phi} = 0\n",
    "\\end{equation}\n",
    "\n",
    "This is known as the **continuity equation**, which is used in many areas of physics (quantum mechanics, fluid mechanics, energy, mass balance, ...)."
   ]
  },
  {
   "cell_type": "markdown",
   "metadata": {
    "lines_to_next_cell": 0
   },
   "source": [
    "### Physical interpretation of the divergence\n",
    "\n",
    "The divergence theorem states that, for any given volume, the integral of the flux (mg/m$^2$/s) over the surface which defines that volume (mg/s) corresponds to the integral over the volume of the \"divergence\" of the flux.\n",
    "\\begin{equation}\n",
    "\\oint_{S(V)} \\overrightarrow{\\phi}d\\overrightarrow{S} = \\int_V \\mathrm{div} \\overrightarrow{\\phi}\n",
    "\\end{equation}\n",
    "\n",
    "Remember Maxwell's law of electromagnetism? If you look at a magnet, the lines describing the magnetic field always goes from the north to the south \"pole\". And over one line,  the value of the magnetic field $B$ (in Tesla), is constant.\n",
    "\n",
    "![](figures/B.png)\n",
    "\n",
    "That means that, if you define a volume $V$ whatsoever, delimited by a closed surface $S(V)$, everything that is coming in, is going to come out. Maxwell's law  for that is\n",
    "\n",
    "\\begin{equation}\n",
    "\\mathrm{div} \\overrightarrow{B} = 0\n",
    "\\end{equation}\n",
    "\n",
    "This is not the case for the electric field.\n",
    "\n",
    "![](figures/E.png)\n",
    "\n",
    "In this case, the presence of one electric charge will generate electric field lines. So if you take any volume, whose incorporates that electric charge, the integral of the flux will be positive (for a positive charge). Maxwell's law states, with $\\rho$ being the charge density:\n",
    "\n",
    "\\begin{equation}\n",
    "\\mathrm{div} \\overrightarrow{E} = \\frac{\\rho}{\\epsilon_0}\n",
    "\\end{equation}\n",
    "\n",
    "Here in our case, the divergence of a vector field $\\rightarrow{q}$ will basically indicate:\n",
    "\\begin{equation}\n",
    "\\mathrm{q} \\propto \\textrm{What goes out} - \\textrm{What goes in}\n",
    "\\end{equation}\n",
    "\n",
    "So, the continuity equation:\n",
    "\n",
    "\\begin{equation}\n",
    "\\frac{dc}{dt} = - \\mathrm{div} \\overrightarrow{\\phi} \\propto \\textrm{What goes in} - \\textrm{What goes out}\n",
    "\\end{equation}\n",
    "\n",
    "\n",
    "\n",
    "\n",
    "\n",
    "\n",
    "\n",
    "\n",
    "\n",
    "\n",
    "\n",
    "\n",
    "\n",
    "\n",
    "\n",
    "\n",
    "\n",
    "\n",
    "\n",
    "\n",
    "\n",
    "\n",
    "\n",
    "\n",
    "\n",
    "\n",
    "\n",
    "\n",
    "\n",
    "\n",
    "\n",
    "\n",
    "\n",
    "\n",
    "\n",
    "\n",
    "\n",
    "\n"
   ]
  },
  {
   "cell_type": "code",
   "execution_count": null,
   "metadata": {},
   "outputs": [],
   "source": []
  }
 ],
 "metadata": {
  "jupytext": {
   "cell_metadata_filter": "all",
   "formats": "",
   "notebook_metadata_filter": "all"
  },
  "kernelspec": {
   "display_name": "Python 3",
   "language": "python",
   "name": "python3"
  },
  "language_info": {
   "codemirror_mode": {
    "name": "ipython",
    "version": 3
   },
   "file_extension": ".py",
   "mimetype": "text/x-python",
   "name": "python",
   "nbconvert_exporter": "python",
   "pygments_lexer": "ipython3",
   "version": "3.6.8"
  },
  "toc": {
   "base_numbering": 1,
   "nav_menu": {},
   "number_sections": true,
   "sideBar": true,
   "skip_h1_title": false,
   "title_cell": "Table of Contents",
   "title_sidebar": "Contents",
   "toc_cell": true,
   "toc_position": {
    "height": "calc(100% - 180px)",
    "left": "10px",
    "top": "150px",
    "width": "165px"
   },
   "toc_section_display": true,
   "toc_window_display": true
  }
 },
 "nbformat": 4,
 "nbformat_minor": 2
}
