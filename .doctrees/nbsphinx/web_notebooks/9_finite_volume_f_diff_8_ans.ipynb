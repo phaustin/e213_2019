{
 "cells": [
  {
   "cell_type": "markdown",
   "metadata": {
    "lines_to_next_cell": 0
   },
   "source": [
    "# Finite volumes 9 - finite-difference approximations"
   ]
  },
  {
   "cell_type": "code",
   "execution_count": 1,
   "metadata": {},
   "outputs": [],
   "source": [
    "from IPython.display import Image"
   ]
  },
  {
   "cell_type": "markdown",
   "metadata": {
    "lines_to_next_cell": 0
   },
   "source": [
    "\n",
    "\n",
    "## Learning goals\n",
    "1. Be able to develop finite-difference approximations for first and second derivatives (total and partial).\n",
    "2. Be able to determine the truncation error and order of a finite - difference approximation from Taylor-series analysis.\n",
    "3. Can construction forwards, backwards and central finite difference approximation stencils.\n",
    "4. Can  distinguish truncation error from roundoff error.\n",
    "5. Can identify the controls truncation error, and recognize pathological situations which lead to large truncation errors.\n",
    "6. Using a finite-difference stencil, can construct the system of equations for a finite-difference approximation to an ordinary or partial differential equation, including defining the grid of nodes and applying first-type (Dirichlet) and second-type (Neumann) boundary conditions.\n",
    "7. Can compare and contrast and finite-difference approximation to a finite-volume approximation (this last learning will only become apparent after we introduce the integral formulation of the finite-volume method and of our conservation PDEs).\n",
    "\n",
    "Advanced reference: LeVeque, Randal J, *Finite difference methods for ordinary and partial differential equations: Steady-state and time-dependent problems,* 2007 (can be downloaded from UBC library here: __[UBC library link](http://gw2jh3xr2c.search.serialssolutions.com/?ctx_ver=Z39.88-2004&ctx_enc=info%3Aofi%2Fenc%3AUTF-8&rfr_id=info%3Asid%2Fsummon.serialssolutions.com&rft_val_fmt=info%3Aofi%2Ffmt%3Akev%3Amtx%3Abook&rft.genre=book&rft.title=Finite+difference+methods+for+ordinary+and+partial+differential+equations&rft.au=LeVeque%2C+Randall+J&rft.date=2007-01-01&rft.pub=Society+for+Industrial+and+Applied+Mathematics&rft.isbn=9780898716290&rft.externalDocID=SIAMB0000334&paramdict=en-US)__ "
   ]
  },
  {
   "cell_type": "markdown",
   "metadata": {
    "lines_to_next_cell": 0
   },
   "source": [
    "## Finite-difference approximations to derivatives\n",
    "\n",
    "In notebook `6_finite_volume_4.ipynb` (https://phaustin.github.io/eosc213/web_notebooks/6_finite_volume_4.html) we were inspired to approximate the $x$ component of the gradient in concentration as\n",
    "\n",
    "<br><br>\n",
    "\\begin{align}\n",
    "{\\partial c \\over \\partial x} &\\approx  {c(x+\\Delta x) - c(x)\\over \\Delta x} \\label{fd881}\\\\\n",
    "\\end{align}\n",
    "<br><br>\n",
    "where $\\Delta x$ is not infinitesimal, based upon the definition of the derivative where it is:\n",
    "<br><br>\n",
    "\n",
    "\\begin{align}\n",
    "{\\partial c \\over \\partial x} &= \\lim_{\\Delta x \\rightarrow 0} {c(x+\\Delta x) - c(x)\\over \\Delta x} \\label{fd882}\\\\\n",
    "\\end{align}\n",
    "\n",
    "where $c(x+\\Delta x)$ is notation for \"the concentration at the point $x+\\Delta x, y, z$\".\n",
    "\n",
    "<br><br>\n",
    "\n",
    "Here we want to evaluate the accuracy of these finite-difference approximations. To do that, we need to look at **Taylor series representations** of functions.\n",
    "<br><br>\n",
    "\n"
   ]
  },
  {
   "cell_type": "markdown",
   "metadata": {
    "lines_to_next_cell": 0
   },
   "source": [
    "### Intuition\n",
    "\n",
    "Let's first look at a simple function that we know so we can calculate the derivatives using calculus and compare them to the our finite-difference approximations. Then we'll dig into the theory using Taylor Series.\n",
    "<br><br>\n",
    "Let's try the following function which is easy to plot and differentiate:\n",
    "<br><br>\n",
    "\\begin{align}\n",
    "f(x)&= -(x - 2.5)^3 + 5\n",
    "\\end{align}\n",
    "<br><br>\n",
    "We can implement it in python below as `func_1`.\n"
   ]
  },
  {
   "cell_type": "code",
   "execution_count": 2,
   "metadata": {},
   "outputs": [],
   "source": [
    "import matplotlib.pyplot as plt\n",
    "import numpy as np"
   ]
  },
  {
   "cell_type": "code",
   "execution_count": 3,
   "metadata": {},
   "outputs": [],
   "source": [
    "def func_1(x):\n",
    "    \"\"\"\n",
    "    A simple function to be used to investigate test finite-difference approximations to derivatives\n",
    "\n",
    "    Parameters\n",
    "    ----------\n",
    "    x: (float)\n",
    "        function argument\n",
    "\n",
    "    Returns\n",
    "    -------\n",
    "    func_1(x): (float)\n",
    "        the value of the function when argument is x\n",
    "    \"\"\"\n",
    "    return -(x - 2.5) ** 3 + 5.0"
   ]
  },
  {
   "cell_type": "code",
   "execution_count": 4,
   "metadata": {},
   "outputs": [],
   "source": [
    "def dfunc_1(x):\n",
    "    \"\"\"\n",
    "    The derivative of func_1\n",
    "\n",
    "    Parameters\n",
    "    ----------\n",
    "    x: (float)\n",
    "        function argument\n",
    "\n",
    "    Returns\n",
    "    -------\n",
    "    dfunc_1(x): (float)\n",
    "        the derivative of the function when argument is x\n",
    "    \"\"\"\n",
    "    return -3.0 * (x - 2.5) ** 2"
   ]
  },
  {
   "cell_type": "markdown",
   "metadata": {},
   "source": [
    "Let's plot it over short interval to see what it looks like. Using a rather coarse separation between points ($\\Delta x = 1.$):"
   ]
  },
  {
   "cell_type": "code",
   "execution_count": 5,
   "metadata": {},
   "outputs": [
    {
     "data": {
      "text/plain": [
       "[<matplotlib.lines.Line2D at 0x10fc34470>]"
      ]
     },
     "execution_count": 5,
     "metadata": {},
     "output_type": "execute_result"
    },
    {
     "data": {
      "image/png": "[encoded data removed]",
      "text/plain": [
       "<Figure size 432x288 with 1 Axes>"
      ]
     },
     "metadata": {
      "needs_background": "light"
     },
     "output_type": "display_data"
    }
   ],
   "source": [
    "x_pts = np.arange(0.0, 6.0, 1.0)  # creates an array [-3.,-2.,..., 2.0]\n",
    "y_pts = func_1(\n",
    "    x_pts\n",
    ")  # computes the function at each point in x_pts, stores result in array y_pts\n",
    "plt.plot(x_pts, y_pts, \"-o\")  # plot with points"
   ]
  },
  {
   "cell_type": "code",
   "execution_count": 6,
   "metadata": {},
   "outputs": [
    {
     "name": "stdout",
     "output_type": "stream",
     "text": [
      "  x   f(x)\n",
      " 0.0,  20.62\n",
      " 1.0,  8.38\n",
      " 2.0,  5.12\n",
      " 3.0,  4.88\n",
      " 4.0,  1.62\n",
      " 5.0, -10.62\n"
     ]
    }
   ],
   "source": [
    "# print out points\n",
    "print(f\"  x   f(x)\")\n",
    "for j in range(len(x_pts)):\n",
    "    print(f\"{x_pts[j]: 3.1f}, {y_pts[j]: 3.2f}\")"
   ]
  },
  {
   "cell_type": "markdown",
   "metadata": {},
   "source": [
    "\n",
    "### Backward  difference\n",
    "\n",
    "Let's look at evaluating the derivative at $x=2.0$ using values of the function at neighbouring  points. One option is to make a straight-line approximation using the value of the function at $x=1$ and $x=2$:\n",
    "<br><br>\n",
    "\\begin{align}\n",
    "\\left.{df(x)\\over dx} \\right| & \\approx \\frac{f(x)-f(x-\\Delta x)}{\\Delta x} \\\\\n",
    "\\left.{df(x)\\over dx} \\right|_{x=2} & \\approx \\frac{f(2)-f(1)}{2-1} = (5.12 - 8.38)/1.0 = -3.26\\\\\n",
    "\\end{align}\n",
    "<br><br>\n",
    "\n",
    "So, we approximate the slope at $x=2$ by the slope of the line that connects $f(1)$ and $f(2)$:\n"
   ]
  },
  {
   "cell_type": "code",
   "execution_count": 7,
   "metadata": {},
   "outputs": [
    {
     "data": {
      "text/plain": [
       "[<matplotlib.lines.Line2D at 0x10fceaf28>]"
      ]
     },
     "execution_count": 7,
     "metadata": {},
     "output_type": "execute_result"
    },
    {
     "data": {
      "image/png": "[encoded data removed]",
      "text/plain": [
       "<Figure size 432x288 with 1 Axes>"
      ]
     },
     "metadata": {
      "needs_background": "light"
     },
     "output_type": "display_data"
    }
   ],
   "source": [
    "plt.plot(x_pts, y_pts, \"-o\")  # plot the function\n",
    "plt.title(\"Backward difference\")\n",
    "plt.plot(x_pts[1:3], y_pts[1:3], \"-r\", linewidth=5)  # plot the line segment"
   ]
  },
  {
   "cell_type": "markdown",
   "metadata": {},
   "source": [
    "### Forward difference\n",
    "\n",
    "Here we make a straight-line approximation for the derivative at $x=2$ using the value of the function at $x=3$ and $x=2$:\n",
    "<br><br>\n",
    "\\begin{align}\n",
    "\\left.{df(x)\\over dx} \\right| & \\approx \\frac{f(x+\\Delta x)-f(x)}{\\Delta x} \\\\\n",
    "\\left.{df(x)\\over dx} \\right|_{x=2} & \\approx \\frac{f(3)-f(2)}{3-2} = (4.88 - 5.12)/1.0 = -0.24\\\\\n",
    "\\end{align}\n",
    "<br><br>\n",
    "\n",
    "Shown graphically:"
   ]
  },
  {
   "cell_type": "code",
   "execution_count": 8,
   "metadata": {},
   "outputs": [
    {
     "data": {
      "text/plain": [
       "[<matplotlib.lines.Line2D at 0x10fe35c18>]"
      ]
     },
     "execution_count": 8,
     "metadata": {},
     "output_type": "execute_result"
    },
    {
     "data": {
      "image/png": "[encoded data removed]",
      "text/plain": [
       "<Figure size 432x288 with 1 Axes>"
      ]
     },
     "metadata": {
      "needs_background": "light"
     },
     "output_type": "display_data"
    }
   ],
   "source": [
    "plt.plot(x_pts, y_pts, \"-o\")\n",
    "plt.title(\"Forward difference\")\n",
    "\n",
    "plt.plot(x_pts[2:4], y_pts[2:4], \"-r\", linewidth=5)"
   ]
  },
  {
   "cell_type": "markdown",
   "metadata": {},
   "source": [
    "### Central difference\n",
    "\n",
    "Here we make a straight-line approximation for the derivative at $x=2$ using the value of the function at $x=3$ and $x=1$:\n",
    "<br><br>\n",
    "\\begin{align}\n",
    "\\left.{df(x)\\over dx} \\right| & \\approx \\frac{f(x+\\Delta x)-f(x-\\Delta x)}{2\\Delta x} \\\\\n",
    "\\left.{df(x)\\over dx} \\right|_{x=2} & \\approx \\frac{f(3)-f(1)}{3-1} = {(4.88 - 8.38)\\over 2.0} = -1.75\\\\\n",
    "\\end{align}\n",
    "<br><br>\n",
    "\n",
    "Shown graphically:"
   ]
  },
  {
   "cell_type": "code",
   "execution_count": 9,
   "metadata": {},
   "outputs": [
    {
     "data": {
      "text/plain": [
       "[<matplotlib.lines.Line2D at 0x10fe9d080>]"
      ]
     },
     "execution_count": 9,
     "metadata": {},
     "output_type": "execute_result"
    },
    {
     "data": {
      "image/png": "[encoded data removed]",
      "text/plain": [
       "<Figure size 432x288 with 1 Axes>"
      ]
     },
     "metadata": {
      "needs_background": "light"
     },
     "output_type": "display_data"
    }
   ],
   "source": [
    "plt.plot(x_pts, y_pts, \"-o\")\n",
    "plt.title(\"Central difference\")\n",
    "\n",
    "plt.plot((x_pts[1], x_pts[3]), (y_pts[1], y_pts[3]), \"-r\", linewidth=5)"
   ]
  },
  {
   "cell_type": "markdown",
   "metadata": {},
   "source": [
    "Collecting them all together, and including the tangent line at that point, which is computed using the exact derivative:"
   ]
  },
  {
   "cell_type": "code",
   "execution_count": 10,
   "metadata": {
    "lines_to_next_cell": 2
   },
   "outputs": [
    {
     "data": {
      "text/plain": [
       "(0, 5.0, 3.0, 10.0)"
      ]
     },
     "execution_count": 10,
     "metadata": {},
     "output_type": "execute_result"
    },
    {
     "data": {
      "image/png": "[encoded data removed]",
      "text/plain": [
       "<Figure size 576x432 with 1 Axes>"
      ]
     },
     "metadata": {
      "needs_background": "light"
     },
     "output_type": "display_data"
    }
   ],
   "source": [
    "x_pts2 = np.linspace(0.5, 5.0)  # x points at which to plot tangent line\n",
    "tangent = 5.12 - 3.0 * 0.5 ** 2 * (\n",
    "    x_pts2 - 2.0\n",
    ")  # formula for the tangent line at x = 2\n",
    "fig, ax = plt.subplots(1, 1, figsize=(8, 6))\n",
    "ax.plot(x_pts2, func_1(x_pts2), \"k\", linewidth=2, label=\"f(x)\")\n",
    "ax.plot(x_pts[2:4], y_pts[2:4], \"-g\", linewidth=3, label=\"Forward\")\n",
    "ax.plot(x_pts[1:3], y_pts[1:3], \"-b\", linewidth=3, label=\"Backward\")\n",
    "ax.plot((x_pts[1], x_pts[3]), (y_pts[1], y_pts[3]), \"-r\", linewidth=3, label=\"Central\")\n",
    "ax.plot(x_pts2, tangent, \"--k\", linewidth=3, label=\"Tangent\")\n",
    "ax.legend(loc=\"best\")\n",
    "ax.axis((0, 5.0, 3.0, 10.0))"
   ]
  },
  {
   "cell_type": "markdown",
   "metadata": {},
   "source": [
    "### Example: approximation error\n",
    "\n",
    "Let's compute the error in the approximations at $x=2$.\n",
    "<br><br>\n"
   ]
  },
  {
   "cell_type": "code",
   "execution_count": 11,
   "metadata": {
    "lines_to_next_cell": 2
   },
   "outputs": [
    {
     "name": "stdout",
     "output_type": "stream",
     "text": [
      "Exact derivative at x = 2.00, df/dx = -0.7500\n",
      "     FD approximation                          |error|\n",
      " forward   backward   central        forward   backward   central \n",
      "  -0.250   -3.250     -1.750           0.500     2.500      1.000\n",
      "  -0.250   -1.750     -1.000           0.500     1.000      0.250\n",
      "  -0.438   -1.188     -0.812           0.312     0.438      0.062\n",
      "  -0.578   -0.953     -0.766           0.172     0.203      0.016\n",
      "  -0.660   -0.848     -0.754           0.090     0.098      0.004\n"
     ]
    },
    {
     "data": {
      "text/plain": [
       "<matplotlib.legend.Legend at 0x110064ac8>"
      ]
     },
     "execution_count": 11,
     "metadata": {},
     "output_type": "execute_result"
    },
    {
     "data": {
      "image/png": "[encoded data removed]",
      "text/plain": [
       "<Figure size 576x432 with 1 Axes>"
      ]
     },
     "metadata": {
      "needs_background": "light"
     },
     "output_type": "display_data"
    }
   ],
   "source": [
    "x = 2.0\n",
    "exact_d = dfunc_1(x)  # exact derivative coded above\n",
    "print(f\"Exact derivative at x = {x:2.2f}, df/dx = {exact_d:3.4f}\")\n",
    "print(f\"     FD approximation                          |error|\")\n",
    "print(f\" forward   backward   central        forward   backward   central \")\n",
    "\n",
    "# Compute the error for a sequence of values of dx that decrease by a factor of two in size\n",
    "dx_vals = np.array([1.0, 0.5, 0.25, 0.125, 0.0625])\n",
    "\n",
    "# python - empty arrays that will hold the errors as we loop through the computation for different dx\n",
    "for_err = []\n",
    "back_err = []\n",
    "cent_err = []\n",
    "\n",
    "# python iteration over elements in the np array dx_vals\n",
    "for dx in np.nditer(dx_vals):\n",
    "    # to avoid repeated function calls (for efficiency) store function calls in temporary variables\n",
    "    f_xpdx = func_1(x + dx)  # f(x+dx) value of the function at x+dx\n",
    "    f_x = func_1(x)  # f(x) value of the function at x\n",
    "    f_xmdx = func_1(x - dx)  # f(x-dx) value of the function at x-dx\n",
    "\n",
    "    for_dif = (f_xpdx - f_x) / dx  # compute forward, backward and central difference\n",
    "    back_dif = (f_x - f_xmdx) / dx\n",
    "    cent_dif = (f_xpdx - f_xmdx) / (2.0 * dx)\n",
    "\n",
    "    # compute the absolute value of the error, add to a list using .append method\n",
    "    for_err.append(abs(for_dif - exact_d)) \n",
    "    back_err.append(abs(back_dif - exact_d))\n",
    "    cent_err.append(abs(cent_dif - exact_d))\n",
    "    # erros are now stored in lists  - these are not numpy arrays\n",
    "    sv = [\n",
    "        f\"{item:8.3f}\"\n",
    "        for item in [\n",
    "            for_dif,\n",
    "            back_dif,\n",
    "            cent_dif,\n",
    "            for_err[-1],\n",
    "            back_err[-1],\n",
    "            cent_err[-1],\n",
    "        ]\n",
    "    ]\n",
    "\n",
    "    print(\n",
    "        f\"{sv[0]:8>} {sv[1]:8<}   {sv[2]:8<}        {sv[3]:8>}  {sv[4]:8>}   {sv[5]:8>}\"\n",
    "    )\n",
    "\n",
    "\n",
    "# must convert lists that contain errors to numpy arrays to plot with matplotlib\n",
    "np.asarray(for_err)\n",
    "np.asarray(back_err)\n",
    "np.asarray(cent_err)\n",
    "\n",
    "# plot it!\n",
    "fig, ax = plt.subplots(1, 1, figsize=(8, 6))\n",
    "ax.loglog(dx_vals, for_err, \"k\", linewidth=2, label=\"Forward\")\n",
    "ax.loglog(dx_vals, back_err, \"-g\", linewidth=3, label=\"Backward\")\n",
    "ax.loglog(dx_vals, cent_err, \"-b\", linewidth=3, label=\"Central\")\n",
    "ax.set_xlabel(\"dx\", fontsize=\"large\")\n",
    "ax.set_ylabel(\"|error|\", fontsize=\"large\")\n",
    "ax.legend(loc=\"best\")"
   ]
  },
  {
   "cell_type": "markdown",
   "metadata": {},
   "source": [
    "### Assess error\n",
    "\n",
    "Contemplate\n",
    "\n",
    "1. Which approximation is the most accurate?\n",
    "* Does the error depend upon $dx$?\n",
    "* For which approximation does the error decrease the fastest as $dx$ shrinks?\n",
    "\n",
    "<br><br>\n",
    "\n",
    "1. The accuracy depends upon $\\Delta x$. In all cases, the backwards difference is the least accurate. At large $\\Delta x$ the forward difference is the most accurate. At small $\\Delta x$, the central difference is the most accurate. Generally, we will never know which difference is the most accurate for an approximation and discretization $\\Delta x$ or $\\Delta t$. \n",
    "2. Yes, clearly they all drop as $\\Delta x$ decreases. Note for the forward difference that the rate of decrease only becomes regular for a sufficiently small value of $\\Delta x$. \n",
    "3. The error drops the most rapidly for the central difference. \n",
    "\n",
    "<br><br><br>\n",
    "In the application of finite differences to solve differential equations, the function that we are solving for is not known a priori, so the error in the approximation cannot be computed. For that reason, when we assess a finite-difference approximation, we look at **how quickly the error shrinks as we shrink** $\\Delta x$. To see that we have to revisit Taylor series.\n"
   ]
  },
  {
   "cell_type": "markdown",
   "metadata": {},
   "source": [
    "### Taylor Series analysis of finite-difference approximations\n",
    "\n",
    "Taylor series reference: Khan Academy https://www.khanacademy.org/math/ap-calculus-bc/bc-series-new/bc-10-11/v/maclaurin-and-taylor-series-intuition\n",
    "UBC Patrick Wall https://www.math.ubc.ca/~pwalls/math-python/differentiation/\n",
    "<br><br> Video - Taylor series and finite differences https://www.coursera.org/lecture/computers-waves-simulations/w2v3-taylor-series-PEN8L\n",
    "<br><br><br>\n",
    "#### Approach\n",
    "* manipulate Taylor series approximations to develop exact expressions for derivatives.\n",
    "* compare these expressions to finite-difference approximations and thereby develop expressions for the **truncation error** = exact - approximate.\n",
    "\n",
    "<br><br><br>\n",
    "Recall a Taylor series gives you the value of a function at a location $x_i + dx$ using the value of the function and its derivatives at the point $x_i$. Functions that can be approximated in this way are called analytic https://en.wikipedia.org/wiki/Analytic_function."
   ]
  },
  {
   "cell_type": "markdown",
   "metadata": {},
   "source": [
    "<br><br>\n",
    "Let's represent a function $f$ at points $x_i+\\Delta x$ and $x_i-\\Delta x$:\n",
    "\\begin{align}\n",
    "f(x_i+\\Delta x) &= f(x_i) + (\\Delta x){df(x_i)\\over dx} + {(\\Delta x)^2\\over 2!}{d^2f(x_i)\\over dx^2} + {(\\Delta x)^3\\over 3!}{d^3f(x_i)\\over dx^3} \\nonumber \\\\\n",
    "&+ \\cdots +  {(\\Delta x)^n\\over n!}{d^nf(x_i)\\over dx^n} + \\cdots \\label{8fd884} \\\\\n",
    "f(x_i-\\Delta x) &= f(x_i) + (-\\Delta x){df(x_i)\\over dx} + {(-\\Delta x)^2\\over 2!}{d^2f(x_i)\\over dx^2} + {(-\\Delta x)^3\\over 3!}{d^3f(x_i)\\over dx^3} + \\nonumber\\\\\n",
    "&\\cdots +  {(-\\Delta x)^n\\over n!}{d^nf(x_i)\\over dx^n} + \\cdots \\label{8fd885} \\\\\n",
    "\\end{align}\n",
    "<br><br>\n",
    "#### Forward difference Taylor analysis\n",
    "<br><br>\n",
    "Subtract $f(x_i)$ from the Taylor approximation $f(x_i+\\Delta x)$ \\ref{8fd884}\n",
    "<br><br>"
   ]
  },
  {
   "cell_type": "markdown",
   "metadata": {},
   "source": [
    "\\begin{align}\n",
    "f(x_i+\\Delta x) - f(x_i) &= (\\Delta x){df(x_i)\\over dx} + {(\\Delta x)^2\\over 2!}{d^2f(x_i)\\over dx^2} + {(\\Delta x)^3\\over 3!}{d^3f(x_i)\\over dx^3} + \\cdots +  {(\\Delta x)^n\\over n!}{d^nf(x_i)\\over dx^n} + \\cdots \\label{8fd886} \\\\\n",
    "\\end{align}\n",
    "<br><br>\n",
    "Solve for ${df(x_i)\\over dx}$, the derivative at point $x_i$:\n",
    "<br><br>\n",
    "\\begin{align}\n",
    "{df(x_i)\\over dx} & = \\overbrace{{f(x_i+\\Delta x) - f(x_i)\\over \\Delta x}}^\\text{forward difference approximation} \\nonumber\\\\\n",
    "&- \\overbrace{\\frac{1}{\\Delta x}\\left[ {(\\Delta x)^2\\over 2!}{d^2f(x_i)\\over dx^2} +\n",
    "{(\\Delta x)^3\\over 3!}{d^3f(x_i)\\over dx^3} + \\cdots +  {(\\Delta x)^n\\over n!}{d^nf(x_i)\\over dx^n} + \\cdots \\right]}^\\text{truncation error} \\label{8fd887} \\\\\n",
    "\\end{align}\n",
    "<br><br>\n",
    "Let's pause for a moment. The expression \\ref{8fd887} is exact. In words this expression says that the exact derivative at point $x_i$ is given by the forward-difference approximation minus a **truncation error**, all the terms in the $[]$ braces. That is, true = approximate - error.\n",
    "<br><br>\n",
    "##### Truncation error\n",
    "The forward difference truncation error is\n",
    "<br><br>\n",
    "\\begin{align}\n",
    "\\left[ \\underbrace{\\frac{(\\Delta x)}{2!}}_\\text{leading term}{d^2f(x_i)\\over dx^2} + \\underbrace{(\\Delta x)^2\\over 3!}_\\text{2nd term}{d^3f(x_i)\\over dx^3} + \\cdots +  {(\\Delta x)^{n-1}\\over n!}{d^nf(x_i)\\over dx^n} + \\cdots \\right] \\label{8fd888} \\\\\n",
    "\\end{align}\n",
    "<br><br>\n",
    "1. What controls the size of the truncation error?\n",
    "* How can we characterize this truncation error?\n",
    "<br><br>\n",
    "##### Order of approximation\n",
    "**Problem**: when we used finite-difference approximations to compute Euler timesteps or fluxes, we did not know the function, and therefore in general we don't know the values of the derivatives ${df(x_i)\\over dx}$, ${d^2f(x_i)\\over dx^2}$, etc, in the truncation error. So instead we focus on the effects of changing $\\Delta x$ on the truncation error.\n",
    "<br><br>\n",
    "\n",
    "\\begin{align*}\n",
    "\\begin{matrix}\n",
    "& & \\text{leading term} & &\\text{2nd term} \\\\\n",
    "\\text{Reduce }\\quad \\Delta x \\quad \\text{by}\\quad 1/2 & \\text{reduces by}\\quad &1/2& \\text{reduces by}\\quad &1/4 \\\\\n",
    "\\text{Reduce }\\quad \\Delta x \\quad \\text{by}\\quad 1/4 & \\text{reduces by}\\quad &1/4& \\text{reduces by}\\quad &1/16 \\\\\n",
    "\\text{Reduce }\\quad \\Delta x \\quad \\text{by}\\quad 1/8 & \\text{reduces by}\\quad &1/8& \\text{reduces by}\\quad &1/64 \\\\\n",
    "\\end{matrix}\n",
    "\\end{align*}\n",
    "\n",
    "<br><br>\n",
    "When $\\Delta x$ is reduced, the leading term $(\\Delta x){df(x_i)\\over dx}$ decreases the most slowly. When $\\Delta x$ is reduced by a factor of 8, the leading term is reduced by a factor of 8, but the second term is reduced by a factor of 64. So, the error is dominated by the leading order behavior. Higher-order terms are eventually insignificant.\n",
    "<br><br>\n",
    "So, we now write\n",
    "<br><br>\n",
    "\\begin{align}\n",
    "{df(x_i)\\over dx} & = \\overbrace{{f(x_i+\\Delta x) - f(x_i)\\over \\Delta x}}^\\text{forward difference approximation} \\nonumber\\\\\n",
    "&- \\overbrace{\\left[ {(\\Delta x)\\over 2!}{d^2f(x_i)\\over dx^2} + {(\\Delta x)^2\\over 3!}{d^3f(x_i)\\over dx^3} + \\cdots +  {(\\Delta x)^{n-1}\\over n!}{d^nf(x_i)\\over dx^n} + \\cdots \\right]}^\\text{truncation error} \\label{8fd889} \\nonumber \\\\\n",
    "& = \\overbrace{{f(x_i+\\Delta x) - f(x_i)\\over \\Delta x}}^\\text{forward difference approximation}  + \\mathcal{O}(\\Delta x) \\label{8fd8810} \\\\\n",
    "\\end{align}\n",
    "<br><br>\n",
    "For this reason, we say that the forward difference approximation is **First order** because as $\\Delta x \\rightarrow 0$, the truncation error shrinks by $(\\Delta x)^1$."
   ]
  },
  {
   "cell_type": "code",
   "execution_count": 17,
   "metadata": {},
   "outputs": [],
   "source": [
    "import antigravity"
   ]
  },
  {
   "cell_type": "markdown",
   "metadata": {},
   "source": [
    "#### Backward difference Taylor analysis\n",
    "<br><br>\n",
    "Subtract expansion for $f(x_i-\\Delta x)$, \\ref{8fd885} from $f(x_i)$.\n",
    "<br><br>\n",
    "\\begin{align}\n",
    "{df(x_i)\\over dx} & = \\overbrace{{f(x_i) - f(x_i-\\Delta x)\\over \\Delta x}}^\\text{backward difference approximation}  + \\mathcal{O}(\\Delta x) \\label{8fd8811} \\\\\n",
    "\\end{align}\n",
    "<br><br>\n",
    "The backward difference is also a **First order** approximation."
   ]
  },
  {
   "cell_type": "markdown",
   "metadata": {},
   "source": [
    "#### Central difference Taylor analysis\n",
    "<br><br>\n",
    "Subtract expansion for $f(x_i+ \\Delta x)$, \\ref{8fd884} from $f(x_i-\\Delta x)$, \\ref{8fd885}.\n",
    "<br><br>\n",
    "\\begin{align}\n",
    "{df(x_i)\\over dx} & = \\overbrace{{f(x_i + \\Delta x) - f(x_i-\\Delta x)\\over 2\\Delta x}}^\\text{central difference approximation}  + \\mathcal{O}(\\Delta x)^2 \\label{8fd88112} \\\\\n",
    "\\end{align}\n",
    "<br><br>\n",
    "The central difference is a **Second order** approximation because as $\\Delta x \\rightarrow 0$, the truncation error shrinks by $(\\Delta x)^2$."
   ]
  },
  {
   "cell_type": "markdown",
   "metadata": {},
   "source": [
    "#### Second derivative\n",
    "<br><br>\n",
    "Add the Taylor expansions for $f(x_i+\\Delta x)$ \\ref{8fd884} and $f(x_i-\\Delta x)$ \\ref{8fd885}\n",
    "<br><br>\n",
    "\\begin{align}\n",
    "f(x_i + \\Delta x) + f(x_i - \\Delta x)&= 2 f(x_i) +   2{(\\Delta x)^2\\over 2!}{d^2f(x_i)\\over dx^2} + 2\\left[{(\\Delta x)^4\\over 4!}{d^4f(x_i)\\over dx^4} + \\cdots +  \\right] \\label{8fd8812} \\\\\n",
    "\\end{align}\n",
    "<br><br>\n",
    "Solve for ${d^2f(x_i)\\over dx^2}$:\n",
    "<br><br>\n",
    "\\begin{align}\n",
    "{d^2f(x_i)\\over dx^2}&= \\overbrace{{f(x_i + \\Delta x) -  2 f(x_i) + f(x_i - \\Delta x)\\over (\\Delta x)^2}}^\\text{central second derivative} + \\mathcal{O}(\\Delta x)^2   \\label{8fd8813} \\\\\n",
    "\\end{align}\n",
    "<br><br>\n",
    "The central second derivative is also **second order**."
   ]
  },
  {
   "cell_type": "markdown",
   "metadata": {},
   "source": [
    "### Summary of finite difference approximations\n",
    "We derived three approximations for the first derivative: forward, backward and central. Let's express them in terms of values of, say, concentration on a grid with constant grid spacing $\\Delta x$ and\n",
    "\\begin{align*}\n",
    "c_i = c(&x_i) \\\\\n",
    "c_{i+1} = c(x_i &+\\Delta x) \\\\\n",
    "c_{i-1} = c(x_i &- \\Delta x) \\\\\n",
    "\\end{align*}\n",
    "\n",
    "#### First derivative\n",
    "<br><br>\n",
    "\\begin{align}\n",
    "\\text{Forward} \\qquad {dc(x_i)\\over dx} =& {c_{i+1} - c_{i} \\over \\Delta x} + \\mathcal{O}(\\Delta x)   \\label{8fd8814} \\\\\n",
    "\\text{Backward}\\qquad {dc(x_i)\\over dx}= & {c_{i} - c_{i-1} \\over \\Delta x} + \\mathcal{O}(\\Delta x)   \\label{8fd8815} \\\\\n",
    "\\text{Central} \\qquad{dc(x_i)\\over dx} =& {c_{i+1} - c_{i-1} \\over 2\\Delta x} + \\mathcal{O}(\\Delta x)^2   \\label{8fd8816}\\\\\n",
    "\\end{align}\n",
    "<br><br>\n",
    "#### Second derivative\n",
    "<br><br>\n",
    "\\begin{align}\n",
    "\\text{Central} \\qquad{d^2c(x_i)\\over dx^2}= & {c_{i+1} -2 c_i + c_{i-1} \\over (\\Delta x)^2} + \\mathcal{O}(\\Delta x)^2   \\label{8fd8817}\\\\\n",
    "\\end{align}\n",
    "<br><br>"
   ]
  },
  {
   "cell_type": "markdown",
   "metadata": {},
   "source": [
    "### Implications for finite volumes\n",
    "\n",
    "#### Euler methods\n",
    "<br><br>\n",
    "In the forward and backward Euler (or explicit and implicit) time stepping the time derivative is approximated as:\n",
    "<br><br>\n",
    "\\begin{align}\n",
    "{dc\\over dt} \\approx {c(t+\\Delta t) - c(t)\\over \\Delta t} \\label{8fd8818}\\\\\n",
    "\\end{align}\n",
    "<br><br>\n",
    "What is the order of this approximation?\n",
    "<br><br>\n",
    "This is a first-order forward in time approximation. Or, in math notation $\\mathcal{O}(\\Delta x)$. We do not know the value of the error, just the rate that it will decline when $\\Delta x$ is sufficiently small. \n",
    "<br><br>\n",
    "#### Fluxes\n",
    "<br><br>\n",
    "In our stencil, we approximate fluxes such as $j_{EC}$ as:\n",
    "<br><br>\n",
    "\\begin{align}\n",
    "j_{EC}&= D\\theta {c_E - c_C \\over \\Delta x} \\label{8fd8819}\\\\\n",
    "\\end{align}\n",
    "<br><br>\n",
    "Although this looks like a first order approximation,  it's really a second order. Why? It's because\n",
    "the flux is really being approximated at the interface between the two gridblocks."
   ]
  },
  {
   "cell_type": "code",
   "execution_count": 15,
   "metadata": {},
   "outputs": [
    {
     "data": {
      "image/png": "[encoded data removed]",
      "text/plain": [
       "<IPython.core.display.Image object>"
      ]
     },
     "execution_count": 15,
     "metadata": {
      "image/png": {
       "width": "40%"
      }
     },
     "output_type": "execute_result"
    }
   ],
   "source": [
    "Image(\"figures/flux_fd.png\",width=\"40%\")"
   ]
  },
  {
   "cell_type": "markdown",
   "metadata": {},
   "source": [
    "To emphasize this, let's use this finite-difference notation, $c_{i-1}=c_C$, $c_{i+1} = c_E$ and write:\n",
    "<br><br>\n",
    "\\begin{align}\n",
    "j_{EC}&= D\\theta {c_{i+1} - c_{i-1} \\over \\Delta x} \\label{8fd8820}\\\\\n",
    "\\end{align}\n",
    "<br><br>\n",
    "The idea is that we are approximating the flux at a point $x_i$, between $x_{i+1}$ and $x_{i-1}$. So, the term looks like a central difference, where the grid points are separated by $\\Delta x /2$. Accordingly, the order is order $\\mathcal{O}((\\Delta x)^2)$\n",
    "<br><br>\n",
    "#### Why not finite differences?\n",
    "Finite-difference methods are straightforward to apply to simple equations (see the assignment below) with constant coefficients. However, for cases where the material properties vary with location (heterogeneous), they can be difficult to apply, for example, when the material properties are heterogeneous (diffusion coefficient, hydraulic conductivity, thermal conductivity, etc). A naive application can lead to **non-conservative** schemes - that is, ones that do not produce discrete approximations that are conservative. In contrast, the finite-volume method is a conservative discrete approximation."
   ]
  },
  {
   "cell_type": "markdown",
   "metadata": {},
   "source": [
    "# Assignment\n",
    "## Finite difference stencil for diffusion\n",
    "### 1-D Steady-state diffusion with constant coefficients\n",
    "#### Partial differential equation for diffusion with homogeneous diffusion coefficient\n",
    "To apply finite-difference approximations to solve differential equations, one simply replaces the derivatives that appear in the equations with a finite difference approximation. \n",
    "<br><br>\n",
    "The partial differential equation for diffusion in three dimensions (not in porous media) is (see `9_pdes_1.ipynb`):\n",
    "<br><br>\n",
    "\\begin{align}\n",
    "&{\\partial c\\over \\partial t} = {\\partial \\over \\partial x}\\left( D {\\partial c \\over \\partial x}\\right) + {\\partial \\over \\partial y}\\left( D {\\partial c \\over \\partial y}\\right)+ {\\partial \\over \\partial z}\\left( D {\\partial c \\over \\partial z}\\right)  \\label{8fd8821}\\\\\n",
    "\\text{or}&\\nonumber\\\\\n",
    "&{\\partial c\\over \\partial t} = \\vec{\\nabla} \\cdot (D \\vec{\\nabla} c)\\label{8fd8822}\\\\\n",
    "\\end{align}\n",
    "<br> <br>\n",
    "Write the partial differential equation for 1-D (in the $x$ direction) steady-state diffusion where the diffusion coefficient is spatially homogeneous.\n",
    "\n",
    "**Put your equation here**\n",
    "<br><br>\n",
    "\\begin{align}\n",
    "&0 = {d^2 c\\over dx^2}\\\\\n",
    "\\text{or}&\\nonumber\\\\\n",
    "&0 = {\\nabla}^2 c \\\\\n",
    "\\end{align}\n",
    "<br> <br>\n",
    "Under these conditions, the concentration is described by Laplace's equation.\n",
    "<br><br>\n",
    "\n",
    "#### Finite-difference stencil for steady-state diffusion with homogeneous diffusion coefficient\n",
    "<br><br>\n",
    "To construct a finite-difference approximation to a differential equation, we simply replace the derivatives in the equation with a finite difference approximation. For example, for an ordinary differential equation of the form\n",
    "<br><br>\n",
    "\\begin{align}\n",
    "{dy\\over dx} &= 2 y + 6 \\label{8fd8824}\\\\\n",
    "\\end{align}\n",
    "<br><br>\n",
    "we develop a finite - difference stencil by replacing the derivative by a finite difference approximation. For example a forward difference approximation would be:\n",
    "<br><br>\n",
    "\\begin{align}\n",
    "{y(x_{i+1}) - y(x_i)\\over \\Delta x} &= 2 y(x_i) + 6 \\label{8fd8825}\\\\\n",
    "\\end{align}\n",
    "<br><br>\n",
    "This is usual written using this notation: $y(x_i)\\rightarrow y_i$:\n",
    "<br><br>\n",
    "\\begin{align}\n",
    "{y_{i+1} - y_i\\over \\Delta x} &= 2 y_i + 6 \\label{8fd8826}\\\\\n",
    "\\end{align}\n",
    "<br><br>\n",
    "Write the finite-difference approximation for  1-D (in the $x$ direction) steady-state diffusion where the diffusion coefficient is spatially homogeneous (that is, for the equation you developed above). Use a centered approximation.\n",
    "<br><br>\n",
    "In a finite-difference approach, we look at the differential equation and replace derivatives with a finite-difference approximation. We developed the second - order central difference in \\ref{8fd8817} so we replace the second derivative with that approximation. Since the right side of the equation equals zero, the $(\\Delta x)^2$ divides out to give:\n",
    "<br>\n",
    "\\begin{align}\n",
    "c_{i+1} - 2 c_{i} + c_{i-1} = 0\\\\\n",
    "\\end{align}\n",
    "<br><br>\n",
    "Note the finite difference equation does not depend upon $\\Delta x$, but the error does! So, for a more accurate solution, we would use more, closer - spaced (smaller $\\Delta x$) gridpoints.\n",
    "<br><br>\n",
    "\n",
    "#### Finite-volume stencil for steady-state diffusion with homogeneous diffusion coefficient\n",
    "The finite-volume approximation for one-dimensional steady diffusion (not in porous media) is:\n",
    "<br><br>\n",
    "\\begin{align}\n",
    "&\\left(D {c_E - c_C \\over \\Delta x} +   D {c_W - c_C \\over \\Delta x}   \\right) (\\Delta y) (\\Delta z) =0 \\label{8fd8823}\\\\\n",
    "\\end{align}\n",
    "<br><br>\n",
    "Write this equation for the case of homogeneous diffusion coefficient and constant gridblock size in the form $a_W c_W + a_C c_C + a_E c_E = rhs$ (that is, determine $a_W$, $a_C$, $a_E$ and $rhs$).\n",
    "<br><br>\n",
    "**Write your equation here.**\n",
    "<br>\n",
    "\n",
    "\\begin{align}\n",
    "&c_{W} - 2 c_{C} + c_{E} = 0\\\\\n",
    "\\end{align}\n",
    "<br><br>\n",
    "Note this is the same discrete approximation that we developed with a finite-difference method! "
   ]
  },
  {
   "cell_type": "markdown",
   "metadata": {},
   "source": [
    "## Approximation error\n",
    "Compute the forward, backward and central difference error of `cos(x)` at $x = 0.7$, starting at $\\Delta x = 0.5$, and the halving $\\Delta x$ 10 times (see code snippet below). Write a python code to:\n",
    "1. compute and print the error for each value of $\\Delta x$ for the forward,centered and backwards approximations.\n",
    "* plot the error of each expression versus $\\Delta x$ \n",
    "* What should the slope of this plot be for the different approximations?\n",
    "\n",
    "<br> <br>\n",
    "You can reuse most of the code above for this assignment."
   ]
  },
  {
   "cell_type": "code",
   "execution_count": 13,
   "metadata": {},
   "outputs": [
    {
     "name": "stdout",
     "output_type": "stream",
     "text": [
      "     0.50,     -0.801\n",
      "     0.25,     -0.628\n",
      "     0.12,     -0.526\n",
      "     0.06,     -0.472\n",
      "     0.03,     -0.444\n",
      "     0.02,     -0.430\n",
      "     0.01,     -0.423\n",
      "     0.00,     -0.420\n",
      "     0.00,     -0.418\n",
      "     0.00,     -0.417\n"
     ]
    }
   ],
   "source": [
    "# code fragment to compute and print the values of delta x to be used in the error computation\n",
    "dx_vals = 2.**-np.arange(1,11)\n",
    "for dx in np.nditer(dx_vals):\n",
    "    y = np.cos(x+dx)\n",
    "    print(f\"{dx:9.2f},  {y:9.3f}\")"
   ]
  },
  {
   "cell_type": "code",
   "execution_count": 14,
   "metadata": {},
   "outputs": [
    {
     "name": "stdout",
     "output_type": "stream",
     "text": [
      "Exact derivative at x = 0.70, df/dx = -0.6442177\n",
      "     FD approximation                       |error i-i /error _i|\n",
      " forward    backward      central          forward    backward    central \n",
      "  -0.805     -0.430       -0.618            0.161     0.214      0.027\n",
      "  -0.733     -0.542       -0.638            0.088     0.102      0.007\n",
      "  -0.690     -0.595       -0.643            0.046     0.049      0.002\n",
      "  -0.668     -0.620       -0.644            0.023     0.024      0.000\n",
      "  -0.656     -0.632       -0.644            0.012     0.012      0.000\n",
      "  -0.650     -0.638       -0.644            0.006     0.006      0.000\n",
      "  -0.647     -0.641       -0.644            0.003     0.003      0.000\n",
      "  -0.646     -0.643       -0.644            0.001     0.001      0.000\n",
      "  -0.645     -0.643       -0.644            0.001     0.001      0.000\n",
      "  -0.645     -0.644       -0.644            0.000     0.000      0.000\n"
     ]
    },
    {
     "data": {
      "image/png": "[encoded data removed]",
      "text/plain": [
       "<Figure size 576x432 with 1 Axes>"
      ]
     },
     "metadata": {
      "needs_background": "light"
     },
     "output_type": "display_data"
    }
   ],
   "source": [
    "x = 0.7\n",
    "exact_d = -np.sin(x)  # exact derivative coded above\n",
    "print(f\"Exact derivative at x = {x:2.2f}, df/dx = {exact_d:3.7f}\")\n",
    "print(f\"     FD approximation                       |error i-i /error _i|\")\n",
    "print(f\" forward    backward      central          forward    backward    central \")\n",
    "\n",
    "# python - empty arrays that will hold the errors as we loop through the computation for different dx\n",
    "for_err = []\n",
    "back_err = []\n",
    "cent_err = []\n",
    "# initialize \n",
    "# python iteration over elements in the np array dx_vals\n",
    "for dx in np.nditer(dx_vals):\n",
    "    # to avoid repeated function calls (for efficiency) store function calls in temporary variables\n",
    "    f_xpdx = np.cos(x + dx)  # f(x+dx) value of the function at x+dx\n",
    "    f_x = np.cos(x)  # f(x) value of the function at x\n",
    "    f_xmdx = np.cos(x - dx)  # f(x-dx) value of the function at x-dx\n",
    "\n",
    "    for_dif = (f_xpdx - f_x) / dx  # compute forward, backward and central difference\n",
    "    back_dif = (f_x - f_xmdx) / dx\n",
    "    cent_dif = (f_xpdx - f_xmdx) / (2.0 * dx)\n",
    "\n",
    "    # compute the absolute value of the error, add to a list using .append method\n",
    "    for_err.append(abs(for_dif - exact_d)) \n",
    "    back_err.append(abs(back_dif - exact_d))\n",
    "    cent_err.append(abs(cent_dif - exact_d))\n",
    "    # errors are now stored in lists  - these are not numpy arrays\n",
    "    sv = [\n",
    "        f\"{item:8.3f}\"\n",
    "        for item in [\n",
    "            for_dif,\n",
    "            back_dif,\n",
    "            cent_dif,\n",
    "            for_err[-1],\n",
    "            back_err[-1],\n",
    "            cent_err[-1],\n",
    "        ]\n",
    "    ]\n",
    "\n",
    "    print(\n",
    "        f\"{sv[0]:8>}   {sv[1]:8<}     {sv[2]:8<}         {sv[3]:8>}  {sv[4]:8>}   {sv[5]:8>}\"\n",
    "    )\n",
    "\n",
    "# plot it!\n",
    "fig, ax = plt.subplots(1, 1, figsize=(8, 6))\n",
    "ax.loglog(dx_vals, for_err, \"k\", linewidth=2, label=\"Forward\")\n",
    "ax.loglog(dx_vals, back_err, \"-g\", linewidth=3, label=\"Backward\")\n",
    "ax.loglog(dx_vals, cent_err, \"-b\", linewidth=3, label=\"Central\")\n",
    "ax.set_xlabel(\"dx\", fontsize=\"large\")\n",
    "ax.set_ylabel(\"|error|\", fontsize=\"large\")\n",
    "ax.legend(loc=\"best\");"
   ]
  },
  {
   "cell_type": "markdown",
   "metadata": {},
   "source": [
    "# Reflection\n",
    "\n",
    "* What dictates your choice in the order of approximation used in a finite - difference approximation?\n",
    "* How does the finite-difference approximation differ from the finite-volume approximation for the case you considered in the assignment above?"
   ]
  }
 ],
 "metadata": {
  "jupytext": {
   "cell_metadata_filter": "all",
   "formats": "ipynb,python//py:percent",
   "notebook_metadata_filter": "all"
  },
  "kernelspec": {
   "display_name": "Python 3",
   "language": "python",
   "name": "python3"
  },
  "language_info": {
   "codemirror_mode": {
    "name": "ipython",
    "version": 3
   },
   "file_extension": ".py",
   "mimetype": "text/x-python",
   "name": "python",
   "nbconvert_exporter": "python",
   "pygments_lexer": "ipython3",
   "version": "3.7.3"
  },
  "toc": {
   "base_numbering": 1,
   "nav_menu": {},
   "number_sections": true,
   "sideBar": true,
   "skip_h1_title": false,
   "title_cell": "Table of Contents",
   "title_sidebar": "Contents",
   "toc_cell": false,
   "toc_position": {},
   "toc_section_display": true,
   "toc_window_display": false
  }
 },
 "nbformat": 4,
 "nbformat_minor": 2
}
