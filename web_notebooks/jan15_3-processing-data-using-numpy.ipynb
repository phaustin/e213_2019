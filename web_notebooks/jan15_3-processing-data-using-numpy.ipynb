{
 "cells": [
  {
   "cell_type": "markdown",
   "metadata": {
    "lines_to_next_cell": 0,
    "toc": true
   },
   "source": [
    "<h1>Table of Contents<span class=\"tocSkip\"></span></h1>\n",
    "<div class=\"toc\"><ul class=\"toc-item\"><li><span><a href=\"#Processing-data-with-NumPy\" data-toc-modified-id=\"Processing-data-with-NumPy-1\"><span class=\"toc-item-num\">1&nbsp;&nbsp;</span>Processing data with NumPy</a></span><ul class=\"toc-item\"><li><span><a href=\"#Calculating-with-NumPy-arrays\" data-toc-modified-id=\"Calculating-with-NumPy-arrays-1.1\"><span class=\"toc-item-num\">1.1&nbsp;&nbsp;</span>Calculating with NumPy arrays</a></span><ul class=\"toc-item\"><li><span><a href=\"#Creating-arrays\" data-toc-modified-id=\"Creating-arrays-1.1.1\"><span class=\"toc-item-num\">1.1.1&nbsp;&nbsp;</span>Creating arrays</a></span></li><li><span><a href=\"#Calcuating-values-using-other-arrays\" data-toc-modified-id=\"Calcuating-values-using-other-arrays-1.1.2\"><span class=\"toc-item-num\">1.1.2&nbsp;&nbsp;</span>Calcuating values using other arrays</a></span></li></ul></li><li><span><a href=\"#Filtering-data\" data-toc-modified-id=\"Filtering-data-1.2\"><span class=\"toc-item-num\">1.2&nbsp;&nbsp;</span>Filtering data</a></span><ul class=\"toc-item\"><li><span><a href=\"#Using-data-masks\" data-toc-modified-id=\"Using-data-masks-1.2.1\"><span class=\"toc-item-num\">1.2.1&nbsp;&nbsp;</span>Using data masks</a></span></li></ul></li><li><span><a href=\"#Removing-missing/bad-data\" data-toc-modified-id=\"Removing-missing/bad-data-1.3\"><span class=\"toc-item-num\">1.3&nbsp;&nbsp;</span>Removing missing/bad data</a></span></li><li><span><a href=\"#Rounding-and-finding-unique-values\" data-toc-modified-id=\"Rounding-and-finding-unique-values-1.4\"><span class=\"toc-item-num\">1.4&nbsp;&nbsp;</span>Rounding and finding unique values</a></span><ul class=\"toc-item\"><li><span><a href=\"#Finding-unique-values\" data-toc-modified-id=\"Finding-unique-values-1.4.1\"><span class=\"toc-item-num\">1.4.1&nbsp;&nbsp;</span>Finding unique values</a></span></li></ul></li><li><span><a href=\"#Saving-our-data-to-a-file\" data-toc-modified-id=\"Saving-our-data-to-a-file-1.5\"><span class=\"toc-item-num\">1.5&nbsp;&nbsp;</span>Saving our data to a file</a></span><ul class=\"toc-item\"><li><span><a href=\"#Re-creating-our-2D-data-array\" data-toc-modified-id=\"Re-creating-our-2D-data-array-1.5.1\"><span class=\"toc-item-num\">1.5.1&nbsp;&nbsp;</span>Re-creating our 2D data array</a></span></li><li><span><a href=\"#Saving-our-data\" data-toc-modified-id=\"Saving-our-data-1.5.2\"><span class=\"toc-item-num\">1.5.2&nbsp;&nbsp;</span>Saving our data</a></span></li></ul></li></ul></li></ul></div>"
   ]
  },
  {
   "cell_type": "markdown",
   "metadata": {
    "lines_to_next_cell": 0
   },
   "source": [
    "# Processing data with NumPy\n",
    "\n",
    "Now you should know the basics of the data structures in NumPy and how to explore your data using some tools that are provided by NumPy.\n",
    "Next, we continue to explore some of the basic data operations that are regularly needed when doing data analysis.\n",
    "\n",
    "Let’s first import NumPy, read the same data as before, and sort it into column arrays to have a clean start."
   ]
  },
  {
   "cell_type": "code",
   "execution_count": 1,
   "metadata": {},
   "outputs": [],
   "source": [
    "import numpy as np  # noqa\n",
    "import pandas as pd"
   ]
  },
  {
   "cell_type": "code",
   "execution_count": 2,
   "metadata": {},
   "outputs": [],
   "source": [
    "data_frame = pd.read_csv(\n",
    "    \"data/Kumpula-June-2016-w-metadata.txt\", header=[8], skip_blank_lines=False\n",
    ")\n",
    "data = data_frame.values"
   ]
  },
  {
   "cell_type": "code",
   "execution_count": 3,
   "metadata": {},
   "outputs": [],
   "source": [
    "date = data[:, 0]\n",
    "temp = data[:, 1]\n",
    "temp_max = data[:, 2]\n",
    "temp_min = data[:, 3]"
   ]
  },
  {
   "cell_type": "markdown",
   "metadata": {},
   "source": [
    "## Calculating with NumPy arrays\n",
    "\n",
    "One of the most common things to do in NumPy is to create new arrays based on calculations between different other arrays (columns).\n",
    "\n",
    "### Creating arrays\n",
    "\n",
    "Arrays can be created in several ways.\n",
    "A common approach is to create an array of zeros with the same length as other existing arrays.\n",
    "This can be thought of as a blank space for calculations."
   ]
  },
  {
   "cell_type": "code",
   "execution_count": 4,
   "metadata": {
    "lines_to_next_cell": 2
   },
   "outputs": [],
   "source": []
  },
  {
   "cell_type": "code",
   "execution_count": null,
   "metadata": {
    "lines_to_next_cell": 2
   },
   "outputs": [],
   "source": []
  },
  {
   "cell_type": "markdown",
   "metadata": {},
   "source": [
    "So, what just happened?\n",
    "We created a new array of zeros using the NumPy `zeros()` function, which takes the size of the array as a parameter.\n",
    "In our case, we've given the size to be the length of the `date` array.\n",
    "In other words, `len(date)`."
   ]
  },
  {
   "cell_type": "markdown",
   "metadata": {},
   "source": [
    "### Calcuating values using other arrays\n",
    "\n",
    "We can now use our new `diff` array to calculate something useful, such as the difference between the `temp_max` and `temp_min` values for each row in our data.\n",
    "How do we do that?\n",
    "It's easy."
   ]
  },
  {
   "cell_type": "code",
   "execution_count": null,
   "metadata": {
    "lines_to_next_cell": 2
   },
   "outputs": [],
   "source": []
  },
  {
   "cell_type": "code",
   "execution_count": null,
   "metadata": {
    "lines_to_next_cell": 2
   },
   "outputs": [],
   "source": []
  },
  {
   "cell_type": "markdown",
   "metadata": {},
   "source": [
    "We simply subtract `temp_min` from `temp_max`.\n",
    "\n",
    "In fact, we don't even need to create the array first.\n",
    "Let's consider another example of calculating the difference between the daily mean temperature and the minimum temperature.\n",
    "We can calculate that simply as follows."
   ]
  },
  {
   "cell_type": "code",
   "execution_count": null,
   "metadata": {
    "lines_to_next_cell": 2
   },
   "outputs": [],
   "source": []
  },
  {
   "cell_type": "code",
   "execution_count": null,
   "metadata": {
    "lines_to_next_cell": 2
   },
   "outputs": [],
   "source": []
  },
  {
   "cell_type": "markdown",
   "metadata": {},
   "source": [
    "When we subtract one NumPy array from another, NumPy is smart enough to automatically create a new array to store the output.\n",
    "We can confirm this by checking the type of the `diff_min` array."
   ]
  },
  {
   "cell_type": "code",
   "execution_count": null,
   "metadata": {
    "lines_to_next_cell": 2
   },
   "outputs": [],
   "source": []
  },
  {
   "cell_type": "markdown",
   "metadata": {},
   "source": [
    "As one final example, let's consider converting temperatures in Fahrenheit to Celsius.\n",
    "We can store the results as `temp_celsius`."
   ]
  },
  {
   "cell_type": "code",
   "execution_count": null,
   "metadata": {
    "lines_to_next_cell": 2
   },
   "outputs": [],
   "source": []
  },
  {
   "cell_type": "code",
   "execution_count": null,
   "metadata": {
    "lines_to_next_cell": 2
   },
   "outputs": [],
   "source": []
  },
  {
   "cell_type": "markdown",
   "metadata": {},
   "source": [
    "Again, since we use a NumPy ndarray in the calculation, a ndarray is output."
   ]
  },
  {
   "cell_type": "markdown",
   "metadata": {},
   "source": [
    "## Filtering data\n",
    "\n",
    "Another common thing to do with data is to look for a subset of the data that match some criterion.\n",
    "For example, we might want to create an array called `w_temps` that contains \"warm\" temperatures, those above 15°C.\n",
    "We can do that as follows."
   ]
  },
  {
   "cell_type": "code",
   "execution_count": null,
   "metadata": {
    "lines_to_next_cell": 2
   },
   "outputs": [],
   "source": []
  },
  {
   "cell_type": "code",
   "execution_count": null,
   "metadata": {
    "lines_to_next_cell": 2
   },
   "outputs": [],
   "source": []
  },
  {
   "cell_type": "markdown",
   "metadata": {},
   "source": [
    "Here, we see only the temperatures above 15°C, as expected.\n",
    "\n",
    "It is also possible to combine multiple criteria at the same time.\n",
    "Here, we select temperatures above 15 degrees that were recorded in the second half of June in 2016 (i.e. `date >= 20160615`).\n",
    "Combining multiple criteria can be done with the `&` operator (logical AND) or the `|` operator (logical OR).\n",
    "Notice, that it is useful to separate the different clauses inside parentheses `()`."
   ]
  },
  {
   "cell_type": "code",
   "execution_count": null,
   "metadata": {
    "lines_to_next_cell": 2
   },
   "outputs": [],
   "source": []
  },
  {
   "cell_type": "code",
   "execution_count": null,
   "metadata": {
    "lines_to_next_cell": 2
   },
   "outputs": [],
   "source": []
  },
  {
   "cell_type": "markdown",
   "metadata": {},
   "source": [
    "With two constraints on the data, that `temp_celsius` must be greater that 15°C and `date` must be on or after June 15, 2016 (i.e., `20160615`), we get a smaller subset of the original data."
   ]
  },
  {
   "cell_type": "markdown",
   "metadata": {},
   "source": [
    "### Using data masks\n",
    "\n",
    "The filtering examples above are nice, but what if we would like to identify the dates with temperatures above 15°C and keep only those dates in our other data columns, such as `date`, `temp`, etc.\n",
    "How can we do that?\n",
    "\n",
    "In order to do that, we will need to use a *mask* array.\n",
    "A mask array is basically a boolean (True/False) array that can be used to take a subset of data from other arrays.\n",
    "Let's consider our example of warm temperatures once again.\n",
    "Rather than extracting `w_temps` directly, we can start by identifying the values in `temp_celsius` where the value is above 15°C (`True`) or less than or equal to 15°C (`False`).\n",
    "The logic is quite similar to before."
   ]
  },
  {
   "cell_type": "code",
   "execution_count": null,
   "metadata": {
    "lines_to_next_cell": 2
   },
   "outputs": [],
   "source": []
  },
  {
   "cell_type": "code",
   "execution_count": null,
   "metadata": {
    "lines_to_next_cell": 2
   },
   "outputs": [],
   "source": []
  },
  {
   "cell_type": "markdown",
   "metadata": {},
   "source": [
    "Now we see a list of `True` and `False` values in an array of the same size as `temp_celsius`.\n",
    "This array shows us whether the condition we stated is `True` or `False` for each index.\n",
    "\n",
    "Now, if we wanted to know the dates when the temperature was above 15°C, we can simply take the values from the `date` array using the mask we just created."
   ]
  },
  {
   "cell_type": "code",
   "execution_count": null,
   "metadata": {
    "lines_to_next_cell": 2
   },
   "outputs": [],
   "source": []
  },
  {
   "cell_type": "code",
   "execution_count": null,
   "metadata": {
    "lines_to_next_cell": 2
   },
   "outputs": [],
   "source": []
  },
  {
   "cell_type": "markdown",
   "metadata": {},
   "source": [
    "Cool, right?\n",
    "Now we see only the subset of dates that match the condition of having a temperature above 15°C, and the lengths of `w_temps` and `w_temp_dates` are the same, meaning we know both the date that the temperature exceeded 15°C and the temperature itself."
   ]
  },
  {
   "cell_type": "code",
   "execution_count": null,
   "metadata": {
    "lines_to_next_cell": 2
   },
   "outputs": [],
   "source": []
  },
  {
   "cell_type": "code",
   "execution_count": null,
   "metadata": {
    "lines_to_next_cell": 2
   },
   "outputs": [],
   "source": []
  },
  {
   "cell_type": "markdown",
   "metadata": {},
   "source": [
    "## Removing missing/bad data\n",
    "\n",
    "In some cases, a data file might contain missing values or values that cannot be read.\n",
    "These may be replaced by `nan` values when you look at your data.\n",
    "`nan` stands for \"not a number\", and often we want to get rid of these things.\n",
    "\n",
    "Let's consider a case where we have an array `bad_data` that is full of zeros, has the same size as `date` and the other arrays from our data file, and the first 5 rows have `nan` values."
   ]
  },
  {
   "cell_type": "code",
   "execution_count": null,
   "metadata": {
    "lines_to_next_cell": 2
   },
   "outputs": [],
   "source": []
  },
  {
   "cell_type": "code",
   "execution_count": null,
   "metadata": {
    "lines_to_next_cell": 2
   },
   "outputs": [],
   "source": []
  },
  {
   "cell_type": "code",
   "execution_count": null,
   "metadata": {
    "lines_to_next_cell": 2
   },
   "outputs": [],
   "source": []
  },
  {
   "cell_type": "markdown",
   "metadata": {},
   "source": [
    "You can see the problem clearly.\n",
    "\n",
    "If we wanted to include values for the `date` column that only correspond to locations in `bad_data` where we do not have a `nan` value, we can use the `isfinite()` function in NumPy.\n",
    "`isfinite()` checks to see if a value is defined (i.e., is not `nan` or infinite (`inf`).\n",
    "Let's make a mask with `bad_data`."
   ]
  },
  {
   "cell_type": "code",
   "execution_count": null,
   "metadata": {
    "lines_to_next_cell": 2
   },
   "outputs": [],
   "source": []
  },
  {
   "cell_type": "code",
   "execution_count": null,
   "metadata": {
    "lines_to_next_cell": 2
   },
   "outputs": [],
   "source": []
  },
  {
   "cell_type": "markdown",
   "metadata": {},
   "source": [
    "We see the expected results.\n",
    "If we want now to include only the dates with good data, we can use the mask as we did before."
   ]
  },
  {
   "cell_type": "code",
   "execution_count": null,
   "metadata": {
    "lines_to_next_cell": 2
   },
   "outputs": [],
   "source": []
  },
  {
   "cell_type": "code",
   "execution_count": null,
   "metadata": {
    "lines_to_next_cell": 2
   },
   "outputs": [],
   "source": []
  },
  {
   "cell_type": "markdown",
   "metadata": {},
   "source": [
    "## Rounding and finding unique values\n",
    "\n",
    "It is possible to round values easily using the `round()` method for NumPy arrays.\n",
    "Let's round our temperatures in Celsius to zero decimal places."
   ]
  },
  {
   "cell_type": "code",
   "execution_count": null,
   "metadata": {
    "lines_to_next_cell": 2
   },
   "outputs": [],
   "source": []
  },
  {
   "cell_type": "code",
   "execution_count": null,
   "metadata": {
    "lines_to_next_cell": 2
   },
   "outputs": [],
   "source": []
  },
  {
   "cell_type": "markdown",
   "metadata": {},
   "source": [
    "### Finding unique values\n",
    "\n",
    "We can find unique values in an array using the `unique()` function."
   ]
  },
  {
   "cell_type": "code",
   "execution_count": null,
   "metadata": {
    "lines_to_next_cell": 2
   },
   "outputs": [],
   "source": []
  },
  {
   "cell_type": "code",
   "execution_count": null,
   "metadata": {
    "lines_to_next_cell": 2
   },
   "outputs": [],
   "source": []
  },
  {
   "cell_type": "markdown",
   "metadata": {},
   "source": [
    "Now we do not see any repeated values in our rounded temperatures."
   ]
  },
  {
   "cell_type": "markdown",
   "metadata": {},
   "source": [
    "## Saving our data to a file\n",
    "\n",
    "Finally we can save our modified data to a file for future use.\n",
    "We'll need to do a few steps to get there, however."
   ]
  },
  {
   "cell_type": "markdown",
   "metadata": {},
   "source": [
    "### Re-creating our 2D data array\n",
    "\n",
    "As you have seen, we have mostly worked with single columns after reading in our data.\n",
    "We can recreate a 2D data structure by stacking these columns back together.\n",
    "\n",
    "For example, let's put together our `date`, `temp`, and `temp_celsius` columns in a new data array called `new_data`.\n",
    "We can start by stacking the data together using the `vstack()` function."
   ]
  },
  {
   "cell_type": "code",
   "execution_count": null,
   "metadata": {
    "lines_to_next_cell": 2
   },
   "outputs": [],
   "source": []
  },
  {
   "cell_type": "code",
   "execution_count": null,
   "metadata": {
    "lines_to_next_cell": 2
   },
   "outputs": [],
   "source": []
  },
  {
   "cell_type": "markdown",
   "metadata": {},
   "source": [
    "Now we have our data back in a single array, but something isn't quite right.\n",
    "The columns and rows need to be flipped.\n",
    "We can do this using the `transpose()` function."
   ]
  },
  {
   "cell_type": "code",
   "execution_count": null,
   "metadata": {
    "lines_to_next_cell": 2
   },
   "outputs": [],
   "source": []
  },
  {
   "cell_type": "code",
   "execution_count": null,
   "metadata": {
    "lines_to_next_cell": 2
   },
   "outputs": [],
   "source": []
  },
  {
   "cell_type": "markdown",
   "metadata": {},
   "source": [
    "That's better!"
   ]
  },
  {
   "cell_type": "markdown",
   "metadata": {},
   "source": [
    "### Saving our data\n",
    "\n",
    "With the data in the correct format, we can now save it to a file using the `savetxt()` function.\n",
    "Let's save our data to a file called `converted_temps.csv`, where the `.csv` indicates the data values are separated by commas (comma-separated values)."
   ]
  },
  {
   "cell_type": "code",
   "execution_count": null,
   "metadata": {
    "lines_to_next_cell": 2
   },
   "outputs": [],
   "source": []
  },
  {
   "cell_type": "markdown",
   "metadata": {},
   "source": [
    "Cool.\n",
    "We have now saved the array `new_data` to the file `converted_temps.csv` with commas between the values (using the `delimiter=','` parameter)."
   ]
  }
 ],
 "metadata": {
  "jupytext": {
   "formats": "ipynb",
   "metadata_filter": {
    "cells": {
     "additional": "all"
    },
    "notebook": {
     "additional": "all"
    }
   },
   "text_representation": {
    "extension": ".py",
    "format_name": "percent",
    "format_version": "1.2",
    "jupytext_version": "0.8.6"
   }
  },
  "kernelspec": {
   "display_name": "Python 3",
   "language": "python",
   "name": "python3"
  },
  "language_info": {
   "codemirror_mode": {
    "name": "ipython",
    "version": 3
   },
   "file_extension": ".py",
   "mimetype": "text/x-python",
   "name": "python",
   "nbconvert_exporter": "python",
   "pygments_lexer": "ipython3",
   "version": "3.6.7"
  },
  "nbsphinx": {
   "execute": "never"
  },
  "toc": {
   "base_numbering": 1,
   "nav_menu": {},
   "number_sections": true,
   "sideBar": true,
   "skip_h1_title": false,
   "title_cell": "Table of Contents",
   "title_sidebar": "Contents",
   "toc_cell": true,
   "toc_position": {},
   "toc_section_display": true,
   "toc_window_display": true
  }
 },
 "nbformat": 4,
 "nbformat_minor": 2
}
