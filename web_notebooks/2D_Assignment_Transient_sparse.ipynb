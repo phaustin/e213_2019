{
 "cells": [
  {
   "cell_type": "markdown",
   "metadata": {
    "lines_to_next_cell": 0,
    "nbgrader": {
     "grade": false,
     "grade_id": "cell-2ad2c23f9a0a820a",
     "locked": true,
     "schema_version": 1,
     "solution": false
    },
    "toc": true
   },
   "source": [
    "<h1>Table of Contents<span class=\"tocSkip\"></span></h1>\n",
    "<div class=\"toc\"><ul class=\"toc-item\"><li><span><a href=\"#Set-up-the-boundary-values\" data-toc-modified-id=\"Set-up-the-boundary-values-1\"><span class=\"toc-item-num\">1&nbsp;&nbsp;</span>Set up the boundary values</a></span></li><li><span><a href=\"#Set-up-the-diffusivity-matrix\" data-toc-modified-id=\"Set-up-the-diffusivity-matrix-2\"><span class=\"toc-item-num\">2&nbsp;&nbsp;</span>Set up the diffusivity matrix</a></span></li><li><span><a href=\"#Steady-state-the-old-fashioned-way\" data-toc-modified-id=\"Steady-state-the-old-fashioned-way-3\"><span class=\"toc-item-num\">3&nbsp;&nbsp;</span>Steady state the old-fashioned way</a></span></li><li><span><a href=\"#Repeat-the-steady-state-calculation-using-a-sparse-matrix\" data-toc-modified-id=\"Repeat-the-steady-state-calculation-using-a-sparse-matrix-4\"><span class=\"toc-item-num\">4&nbsp;&nbsp;</span>Repeat the steady state calculation using a sparse matrix</a></span></li><li><span><a href=\"#Now-do-the-2d-problem\" data-toc-modified-id=\"Now-do-the-2d-problem-5\"><span class=\"toc-item-num\">5&nbsp;&nbsp;</span>Now do the 2d problem</a></span><ul class=\"toc-item\"><li><span><a href=\"#Set-up-the-problem-domain-and-build-A-and-b\" data-toc-modified-id=\"Set-up-the-problem-domain-and-build-A-and-b-5.1\"><span class=\"toc-item-num\">5.1&nbsp;&nbsp;</span>Set up the problem domain and build A and b</a></span></li></ul></li><li><span><a href=\"#Compare-dense-and-sparse\" data-toc-modified-id=\"Compare-dense-and-sparse-6\"><span class=\"toc-item-num\">6&nbsp;&nbsp;</span>Compare dense and sparse</a></span></li><li><span><a href=\"#Plot-your-saved-snapshots-on-a-grid\" data-toc-modified-id=\"Plot-your-saved-snapshots-on-a-grid-7\"><span class=\"toc-item-num\">7&nbsp;&nbsp;</span>Plot your saved snapshots on a grid</a></span></li><li><span><a href=\"#Conclusions\" data-toc-modified-id=\"Conclusions-8\"><span class=\"toc-item-num\">8&nbsp;&nbsp;</span>Conclusions</a></span></li></ul></div>"
   ]
  },
  {
   "cell_type": "markdown",
   "metadata": {},
   "source": [
    "# Introducing sparse matrices\n",
    "\n",
    "This is a rerun of the 2D_Transient_Assignment with two differences:\n",
    "\n",
    "1. It imports common functions from a new python module called module_2D.py\n",
    "\n",
    "1. It uses the scipy.sparse compressed storage format for rows (csr) with\n",
    "   the sparse solver spsolve"
   ]
  },
  {
   "cell_type": "code",
   "execution_count": 1,
   "metadata": {
    "lines_to_next_cell": 2,
    "nbgrader": {
     "grade": false,
     "grade_id": "cell-e58a84ffce31f93a",
     "locked": true,
     "schema_version": 1,
     "solution": false
    }
   },
   "outputs": [
    {
     "name": "stdout",
     "output_type": "stream",
     "text": [
      "It looks like I've been imported by another python script\n",
      "My file location is: \n",
      "/Users/phil/repos/eosc213_students/notebooks/2D_Assignment_sparse/module_2D.py\n",
      "\n"
     ]
    }
   ],
   "source": [
    "import time\n",
    "\n",
    "import matplotlib.cm as cmap\n",
    "import matplotlib.pyplot as plt\n",
    "import numpy as np\n",
    "from module_2D import Boundary_Def\n",
    "from module_2D import build_2D_matrix\n",
    "from module_2D import mat2vec\n",
    "from module_2D import Problem_Def\n",
    "from module_2D import vec2mat\n",
    "from mpl_toolkits.axes_grid1 import AxesGrid\n",
    "from scipy.sparse import csr_matrix\n",
    "from scipy.sparse.linalg import spsolve"
   ]
  },
  {
   "cell_type": "markdown",
   "metadata": {},
   "source": [
    "## Set up the boundary values"
   ]
  },
  {
   "cell_type": "code",
   "execution_count": 2,
   "metadata": {},
   "outputs": [],
   "source": [
    "c0 = 1  # mg/L"
   ]
  },
  {
   "cell_type": "code",
   "execution_count": 3,
   "metadata": {
    "nbgrader": {
     "grade": false,
     "grade_id": "cell-f97ab996f12bd2f2",
     "locked": true,
     "schema_version": 1,
     "solution": false
    }
   },
   "outputs": [],
   "source": [
    "# Here we create 4 boundaries, west has a constant concentration at c0, east has a constant boundary at 0;\n",
    "west = Boundary_Def(\"const\", val=c0)\n",
    "east = Boundary_Def(\"const\", val=0)\n",
    "\n",
    "# For 1D problem, the used boundaries are west and east.\n",
    "\n",
    "# The other south and north boundaries have a zero flux (impermeable)\n",
    "\n",
    "north = Boundary_Def(\"flux\", val=0)\n",
    "south = Boundary_Def(\"flux\", val=0)"
   ]
  },
  {
   "cell_type": "code",
   "execution_count": 4,
   "metadata": {
    "nbgrader": {
     "grade": false,
     "grade_id": "cell-ea536fa5b54285e2",
     "locked": true,
     "schema_version": 1,
     "solution": false
    }
   },
   "outputs": [],
   "source": [
    "bc_dict = {\"west\": west, \"north\": north, \"east\": east, \"south\": south}\n",
    "# The latter array bc_dict will be sent to the different functions"
   ]
  },
  {
   "cell_type": "markdown",
   "metadata": {
    "nbgrader": {
     "grade": false,
     "grade_id": "cell-7bfb0e282680103b",
     "locked": true,
     "schema_version": 1,
     "solution": false
    }
   },
   "source": [
    "## Set up the diffusivity matrix\n",
    "\n",
    "Going from 1 to 2 dimensions changes nothing conceptually. There are, however a couple of changes required for the coding perspective. Indeed, whether the problem is 1D or 2D or 3D, the stucture of the system of equation Ac = b is the same. Matrix $A$ will always be a $n \\times n$ matrix, while $c$ and $b$ will always be column vector of size $n$. In 2D, $n = n_x \\times n_y$, while in 3D, it will be $n = n_x \\times n_y \\times n_z$.  The individual equation for a cell still\n",
    "produces a single row in the A and b matrices, but in 2D that cell has 4 neighbours instead\n",
    "of 2, and 3D it has 6 neighbors intead of 4.\n",
    "\n",
    "However, the fact is that in every case, the solution is stored in one vector, representing either a 1/2/3D solution. For these higher dimension problems, a two-way conversion between vector and matrix is required. To plot the 2D result, for example, we will use colourmap plots, which require the solution to be plotted to be represented as a 2D array (matrix).\n",
    "\n",
    "The function vec2mat(...) (specifically $vector\\ to\\ matrix$) does this: it converts a vector into the relevant 2D matrix, using n_x and n_y.\n",
    "\n",
    "The reverse function is usually required to initialize the initial condition. It is mac2vec(...). These two functions are defined here below."
   ]
  },
  {
   "cell_type": "code",
   "execution_count": 5,
   "metadata": {},
   "outputs": [],
   "source": [
    "decreasing_factor = 0.1  # Feel free to change if you want to see the impact\n",
    "# (you can go higher than 1 ... But be careful, if diffusion speeds up significantly,\n",
    "# the accuracy with respect to the chosen timestep might not be so good if you speed things up! )\n",
    "# Initial value is 0.01"
   ]
  },
  {
   "cell_type": "code",
   "execution_count": 6,
   "metadata": {
    "lines_to_next_cell": 2,
    "nbgrader": {
     "grade": false,
     "grade_id": "cell-42d47ff484f9a502",
     "locked": true,
     "schema_version": 1,
     "solution": false
    }
   },
   "outputs": [],
   "source": [
    "Diff = 2e-9 * 100 * 24 * 3600  # dm²/day"
   ]
  },
  {
   "cell_type": "code",
   "execution_count": 7,
   "metadata": {
    "lines_to_next_cell": 2,
    "nbgrader": {
     "grade": false,
     "grade_id": "cell-b9bd7eaf90619a64",
     "locked": true,
     "schema_version": 1,
     "solution": false
    }
   },
   "outputs": [
    {
     "data": {
      "text/plain": [
       "<matplotlib.colorbar.Colorbar at 0x115c46ac8>"
      ]
     },
     "execution_count": 7,
     "metadata": {},
     "output_type": "execute_result"
    },
    {
     "data": {
      "image/png": "[encoded data removed]",
      "text/plain": [
       "<Figure size 432x288 with 2 Axes>"
      ]
     },
     "metadata": {
      "needs_background": "light"
     },
     "output_type": "display_data"
    }
   ],
   "source": [
    "# Here we define the initial condition, and the diffusion matrix for the 2D problem\n",
    "\n",
    "\n",
    "def make_D_matrix(the_problem, Diff, decreasing_factor):\n",
    "    Diff_low = Diff * decreasing_factor\n",
    "    n_x, n_y = the_problem.nx, the_problem.ny\n",
    "    width_x, width_y = the_problem.wx, the_problem.wy\n",
    "    D_matrix = Diff * np.ones((n_y, n_x))\n",
    "\n",
    "    c_init = np.zeros((n_y, n_x))\n",
    "\n",
    "    x = np.linspace(0, width_x, n_x)\n",
    "    y = np.linspace(0, width_y, n_y)\n",
    "\n",
    "    for i in range(n_y):\n",
    "        for j in range(n_x):\n",
    "            if j == 0:\n",
    "                c_init[i, j] = c0  # Initial condition\n",
    "    #\n",
    "    # overwrite the center of the image with a low diffusivity\n",
    "    #\n",
    "\n",
    "    for i in range(n_y):\n",
    "        for j in range(n_x):\n",
    "            if (\n",
    "                abs(x[j] - width_x / 2) <= 0.2 * width_x\n",
    "                and abs(y[i] - width_y / 2) <= 0.2 * width_y\n",
    "            ):\n",
    "                D_matrix[i, j] = Diff_low\n",
    "                # here we define a square of low diffusivity in the middle\n",
    "    return x, y, D_matrix, c_init\n",
    "\n",
    "\n",
    "width_x = 10  # dm\n",
    "width_y = 10  # dm\n",
    "n_x = 21\n",
    "n_y = n_x\n",
    "poro = 0.4\n",
    "\n",
    "the_prob = Problem_Def(n_x, n_y, poro, width_x, width_y)\n",
    "x, y, D_matrix, c_init = make_D_matrix(the_prob, Diff, decreasing_factor)\n",
    "fig, ax = plt.subplots()\n",
    "# This generates a colormap of diffusion.\n",
    "cm = cmap.get_cmap(\"magma\")\n",
    "plt.contourf(x, y, D_matrix, cmap=cm)\n",
    "plt.colorbar()\n",
    "\n",
    "# \"magma\" refers to a colormap example. You can chose other ones\n",
    "# https://matplotlib.org/examples/color/colormaps_reference.html"
   ]
  },
  {
   "cell_type": "code",
   "execution_count": 8,
   "metadata": {
    "lines_to_next_cell": 2,
    "nbgrader": {
     "grade": false,
     "grade_id": "cell-3f0b9e511535468c",
     "locked": true,
     "schema_version": 1,
     "solution": false
    }
   },
   "outputs": [
    {
     "data": {
      "text/plain": [
       "<matplotlib.colorbar.Colorbar at 0x115d89278>"
      ]
     },
     "execution_count": 8,
     "metadata": {},
     "output_type": "execute_result"
    },
    {
     "data": {
      "image/png": "[encoded data removed]",
      "text/plain": [
       "<Figure size 432x288 with 2 Axes>"
      ]
     },
     "metadata": {
      "needs_background": "light"
     },
     "output_type": "display_data"
    }
   ],
   "source": [
    "# Here we plot the initial condition using the colormap again\n",
    "fig, ax = plt.subplots()\n",
    "# This generates a colormap of diffusion.\n",
    "cm = cmap.get_cmap(\"RdGy_r\")\n",
    "plt.contourf(x, y, c_init, cmap=cm)\n",
    "plt.colorbar()"
   ]
  },
  {
   "cell_type": "markdown",
   "metadata": {},
   "source": [
    "## Steady state the old-fashioned way"
   ]
  },
  {
   "cell_type": "code",
   "execution_count": 9,
   "metadata": {
    "nbgrader": {
     "grade": false,
     "grade_id": "cell-bbb5e477a2fcd825",
     "locked": true,
     "schema_version": 1,
     "solution": false
    }
   },
   "outputs": [
    {
     "data": {
      "text/plain": [
       "<matplotlib.colorbar.Colorbar at 0x11639cb38>"
      ]
     },
     "execution_count": 9,
     "metadata": {},
     "output_type": "execute_result"
    },
    {
     "data": {
      "image/png": "[encoded data removed]",
      "text/plain": [
       "<Figure size 432x288 with 2 Axes>"
      ]
     },
     "metadata": {
      "needs_background": "light"
     },
     "output_type": "display_data"
    }
   ],
   "source": [
    "# Here we give you the asymptotic solution to the problem\n",
    "# we are using everything we have done before\n",
    "\n",
    "### Asymptotic behavior\n",
    "\n",
    "Qsource = np.zeros((n_y, n_x))\n",
    "A, b = build_2D_matrix(bc_dict, the_prob, D_matrix, Qsource)\n",
    "v = np.linalg.solve(A, b)\n",
    "n = n_x * n_y\n",
    "# array v contains the solution\n",
    "# we convert it in a matrix:\n",
    "\n",
    "c = vec2mat(v, n_y, n_x)\n",
    "\n",
    "# and we plot the matrix\n",
    "plt.contourf(x, y, c, 20, cmap=cm)\n",
    "plt.colorbar()"
   ]
  },
  {
   "cell_type": "markdown",
   "metadata": {},
   "source": [
    "## Repeat the steady state calculation using a sparse matrix"
   ]
  },
  {
   "cell_type": "code",
   "execution_count": 10,
   "metadata": {},
   "outputs": [
    {
     "data": {
      "text/plain": [
       "<matplotlib.colorbar.Colorbar at 0x1164bccf8>"
      ]
     },
     "execution_count": 10,
     "metadata": {},
     "output_type": "execute_result"
    },
    {
     "data": {
      "image/png": "[encoded data removed]",
      "text/plain": [
       "<Figure size 432x288 with 2 Axes>"
      ]
     },
     "metadata": {
      "needs_background": "light"
     },
     "output_type": "display_data"
    }
   ],
   "source": [
    "# Here we give you the asymptotic solution to the problem\n",
    "# we are using everything we have done before\n",
    "\n",
    "### Asymptotic behavior\n",
    "\n",
    "poro = 0.4\n",
    "prob = Problem_Def(n_x, n_y, poro, width_x, width_y)\n",
    "Qsource = np.zeros((n_y, n_x))\n",
    "A, b = build_2D_matrix(bc_dict, prob, D_matrix, Qsource)\n",
    "A = csr_matrix(A, copy=True)\n",
    "\n",
    "v = spsolve(A, b)\n",
    "n = n_x * n_y\n",
    "# # array v contains the solution\n",
    "# # we convert it in a matrix:\n",
    "\n",
    "c = vec2mat(v, n_y, n_x)\n",
    "\n",
    "# # and we plot the matrix\n",
    "plt.contourf(x, y, c, 20, cmap=cm)\n",
    "plt.colorbar()"
   ]
  },
  {
   "cell_type": "markdown",
   "metadata": {},
   "source": [
    "## Now do the 2d problem\n",
    "\n",
    "As before, we will save a series of snapshots for plotting at different timesteps"
   ]
  },
  {
   "cell_type": "code",
   "execution_count": 11,
   "metadata": {
    "nbgrader": {
     "grade": false,
     "grade_id": "cell-e8a4fef275e77cec",
     "locked": true,
     "schema_version": 1,
     "solution": false
    }
   },
   "outputs": [],
   "source": [
    "dt = 1.0  #days\n",
    "Tf = 2000.0  # days\n",
    "number_of_fig = 9\n",
    "plot_times = np.linspace(0, Tf, number_of_fig, dtype=np.int, endpoint=True)\n",
    "plot_timesteps = (plot_times / dt).astype(np.int)\n",
    "nTstp = int(Tf / dt)  # number of timesteps"
   ]
  },
  {
   "cell_type": "markdown",
   "metadata": {},
   "source": [
    "### Set up the problem domain and build A and b"
   ]
  },
  {
   "cell_type": "code",
   "execution_count": 12,
   "metadata": {},
   "outputs": [],
   "source": [
    "width_x = 10  # dm\n",
    "width_y = 10  # dm\n",
    "n_x = 25\n",
    "n_y = n_x\n",
    "n = n_x * n_y\n",
    "poro = 0.4\n",
    "\n",
    "the_prob = Problem_Def(n_x, n_y, poro, width_x, width_y)\n",
    "x, y, D_matrix, c_init = make_D_matrix(the_prob, Diff, decreasing_factor)\n",
    "Qsource = np.zeros((n_y, n_x))\n",
    "A, b = build_2D_matrix(bc_dict, the_prob, D_matrix, Qsource)"
   ]
  },
  {
   "cell_type": "markdown",
   "metadata": {},
   "source": [
    "## Compare dense and sparse\n",
    "\n",
    "You should see about a factor of 6 speedup when you set \n",
    "`try_sparse = True`"
   ]
  },
  {
   "cell_type": "code",
   "execution_count": 13,
   "metadata": {
    "lines_to_next_cell": 2,
    "nbgrader": {
     "grade": true,
     "grade_id": "cell-80a44bbf4fb48e87",
     "locked": false,
     "points": 10,
     "schema_version": 1,
     "solution": true
    }
   },
   "outputs": [
    {
     "name": "stdout",
     "output_type": "stream",
     "text": [
      "with try_sparse=False, elapsed time is 18.92159104347229\n"
     ]
    }
   ],
   "source": [
    "try_sparse = False\n",
    "v = mat2vec(c_init, n_y, n_x)\n",
    "Adelta = np.zeros((n, n))\n",
    "for i in range(n):\n",
    "    Adelta[i, i] = poro / dt\n",
    "Aa = A + Adelta\n",
    "Bdelta = np.zeros(n)\n",
    "if try_sparse:\n",
    "    Aa = csr_matrix(Aa, copy=True)\n",
    "\n",
    "save_figs = list()\n",
    "\n",
    "clock_start = time.time()\n",
    "fig_timesteps = []\n",
    "fig_count = 0\n",
    "for t in range(nTstp):\n",
    "    capture_time = plot_timesteps[fig_count]\n",
    "    for i in range(n):\n",
    "        Bdelta[i] = v[i] * poro / dt\n",
    "    bb = b + Bdelta\n",
    "    if try_sparse:\n",
    "        v = spsolve(Aa, bb)\n",
    "    else:\n",
    "        v = np.linalg.solve(Aa, bb)\n",
    "\n",
    "    if t > capture_time:\n",
    "        save_figs.append(vec2mat(v, n_y, n_x))\n",
    "        fig_count += 1\n",
    "\n",
    "clock_stop = time.time()\n",
    "print(f\"with try_sparse={try_sparse}, elapsed time is {clock_stop - clock_start}\")"
   ]
  },
  {
   "cell_type": "markdown",
   "metadata": {},
   "source": [
    "## Plot your saved snapshots on a grid"
   ]
  },
  {
   "cell_type": "code",
   "execution_count": 14,
   "metadata": {
    "nbgrader": {
     "grade": false,
     "grade_id": "cell-be8acbb200b99a1f",
     "locked": true,
     "schema_version": 1,
     "solution": false
    }
   },
   "outputs": [
    {
     "data": {
      "image/png": "[encoded data removed]",
      "text/plain": [
       "<Figure size 720x720 with 17 Axes>"
      ]
     },
     "metadata": {
      "needs_background": "light"
     },
     "output_type": "display_data"
    }
   ],
   "source": [
    "# https://jdhao.github.io/2017/06/11/mpl_multiplot_one_colorbar/\n",
    "# https://matplotlib.org/tutorials/toolkits/axes_grid.html\n",
    "\n",
    "automated_plot = True  # set that to False if you don't want the automated 9 plots\n",
    "if automated_plot:\n",
    "    fig = plt.figure(figsize=(10, 10))\n",
    "\n",
    "    grid = AxesGrid(\n",
    "        fig,\n",
    "        111,\n",
    "        nrows_ncols=(3, 3),\n",
    "        axes_pad=0.40,\n",
    "        cbar_mode=\"single\",\n",
    "        cbar_location=\"right\",\n",
    "        cbar_pad=0.1,\n",
    "    )\n",
    "\n",
    "    for fig_num, the_ax in enumerate(grid):\n",
    "        the_ax.axis(\"equal\")\n",
    "        try:\n",
    "            time_step = plot_times[fig_num]\n",
    "            conc = save_figs[fig_num]\n",
    "            im = the_ax.contourf(x, y, conc, 20, cmap=cm)\n",
    "            the_ax.set_title(f\"timestep {time_step} days\")\n",
    "        except IndexError:\n",
    "            fig.delaxes(the_ax)\n",
    "\n",
    "    cbar = grid.cbar_axes[0].colorbar(im)\n",
    "    cbar.set_label_text(\"Concentration (mg/L)\", rotation=270, size=20, va=\"bottom\")\n",
    "    fig.suptitle(\n",
    "        \"Evolution of the concentration through time\", y=0.9, size=25, va=\"bottom\"\n",
    "    )\n",
    "    fig.savefig(\"evolution.png\")"
   ]
  },
  {
   "cell_type": "markdown",
   "metadata": {},
   "source": [
    "##  Conclusions\n",
    "\n",
    "What you may have noticed, is that, even for small simple 2d transient problems like the one you have just solved, the computation times are already becoming significant...\n",
    "\n",
    "This is partly because we are dealing with big matrix which are filled with zeros. It is a complete waste of time and memory to deal with all of these 0 values. There are other ways to make our calculation way faster. We will probably dedicate a lecture to understand how we can improve this."
   ]
  }
 ],
 "metadata": {
  "jupytext": {
   "cell_metadata_filter": "all",
   "formats": "ipynb,python//py:percent",
   "notebook_metadata_filter": "all"
  },
  "kernelspec": {
   "display_name": "Python 3",
   "language": "python",
   "name": "python3"
  },
  "language_info": {
   "codemirror_mode": {
    "name": "ipython",
    "version": 3
   },
   "file_extension": ".py",
   "mimetype": "text/x-python",
   "name": "python",
   "nbconvert_exporter": "python",
   "pygments_lexer": "ipython3",
   "version": "3.6.7"
  },
  "nbsphinx": {
   "execute": "never"
  },
  "toc": {
   "base_numbering": 1,
   "nav_menu": {},
   "number_sections": true,
   "sideBar": true,
   "skip_h1_title": true,
   "title_cell": "Table of Contents",
   "title_sidebar": "Contents",
   "toc_cell": true,
   "toc_position": {},
   "toc_section_display": true,
   "toc_window_display": true
  }
 },
 "nbformat": 4,
 "nbformat_minor": 2
}
