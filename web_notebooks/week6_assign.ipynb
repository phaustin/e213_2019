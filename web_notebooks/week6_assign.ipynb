{
 "cells": [
  {
   "cell_type": "markdown",
   "metadata": {
    "toc": true
   },
   "source": [
    "<h1>Table of Contents<span class=\"tocSkip\"></span></h1>\n",
    "<div class=\"toc\"><ul class=\"toc-item\"><li><span><a href=\"#Week-6-assignment:-Introduction\" data-toc-modified-id=\"Week-6-assignment:-Introduction-1\"><span class=\"toc-item-num\">1&nbsp;&nbsp;</span>Week 6 assignment: Introduction</a></span><ul class=\"toc-item\"><li><span><a href=\"#1-D-steady---state-diffusion-stencil-(aligned-in-the-x-direction)\" data-toc-modified-id=\"1-D-steady---state-diffusion-stencil-(aligned-in-the-x-direction)-1.1\"><span class=\"toc-item-num\">1.1&nbsp;&nbsp;</span>1-D steady - state diffusion stencil (aligned in the x direction)</a></span></li><li><span><a href=\"#Translation-into-a-computational-problem\" data-toc-modified-id=\"Translation-into-a-computational-problem-1.2\"><span class=\"toc-item-num\">1.2&nbsp;&nbsp;</span>Translation into a computational problem</a></span></li><li><span><a href=\"#Building-these-matrixes\" data-toc-modified-id=\"Building-these-matrixes-1.3\"><span class=\"toc-item-num\">1.3&nbsp;&nbsp;</span>Building these matrixes</a></span></li></ul></li><li><span><a href=\"#Assignment\" data-toc-modified-id=\"Assignment-2\"><span class=\"toc-item-num\">2&nbsp;&nbsp;</span>Assignment</a></span><ul class=\"toc-item\"><li><span><a href=\"#Taking-into-account-a-source-term\" data-toc-modified-id=\"Taking-into-account-a-source-term-2.1\"><span class=\"toc-item-num\">2.1&nbsp;&nbsp;</span>Taking into account a source term</a></span><ul class=\"toc-item\"><li><span><a href=\"#Production-rates\" data-toc-modified-id=\"Production-rates-2.1.1\"><span class=\"toc-item-num\">2.1.1&nbsp;&nbsp;</span>Production rates</a></span></li></ul></li><li><span><a href=\"#Add-the-source-term-to-the-discrete-approximation\" data-toc-modified-id=\"Add-the-source-term-to-the-discrete-approximation-2.2\"><span class=\"toc-item-num\">2.2&nbsp;&nbsp;</span>Add the source term to the discrete approximation</a></span><ul class=\"toc-item\"><li><span><a href=\"#Question1:-Modify-the-code\" data-toc-modified-id=\"Question1:-Modify-the-code-2.2.1\"><span class=\"toc-item-num\">2.2.1&nbsp;&nbsp;</span>Question1: Modify the code</a></span></li><li><span><a href=\"#Question-2:-Build-the-Matrix\" data-toc-modified-id=\"Question-2:-Build-the-Matrix-2.2.2\"><span class=\"toc-item-num\">2.2.2&nbsp;&nbsp;</span>Question 2: Build the Matrix</a></span></li><li><span><a href=\"#Hidden-test:--check-your-concentration-value\" data-toc-modified-id=\"Hidden-test:--check-your-concentration-value-2.2.3\"><span class=\"toc-item-num\">2.2.3&nbsp;&nbsp;</span>Hidden test:  check your concentration value</a></span></li></ul></li><li><span><a href=\"#Discrete-approximation-in-2-dimensions\" data-toc-modified-id=\"Discrete-approximation-in-2-dimensions-2.3\"><span class=\"toc-item-num\">2.3&nbsp;&nbsp;</span>Discrete approximation in 2 dimensions</a></span><ul class=\"toc-item\"><li><span><a href=\"#Question-3:-Write-a-2-D-steady-state-stencil\" data-toc-modified-id=\"Question-3:-Write-a-2-D-steady-state-stencil-2.3.1\"><span class=\"toc-item-num\">2.3.1&nbsp;&nbsp;</span>Question 3: Write a 2-D steady-state stencil</a></span></li></ul></li></ul></li></ul></div>"
   ]
  },
  {
   "cell_type": "markdown",
   "metadata": {
    "deletable": false,
    "editable": false,
    "lines_to_next_cell": 0,
    "nbgrader": {
     "checksum": "a50f204a32712bda947cc01c64a1d31e",
     "grade": false,
     "grade_id": "cell-46d188f356ba20fd",
     "locked": true,
     "schema_version": 1,
     "solution": false
    }
   },
   "source": [
    "# Week 6 assignment: Introduction\n",
    "\n",
    "**The one-dimensional steady-state finite-volume approximation**\n",
    "\n",
    "We just developed the fundamental stencil for 1-D steady-state diffusion in terms of concentrations in gridblocks as:\n",
    "\n",
    "## 1-D steady - state diffusion stencil (aligned in the x direction)\n",
    "\n",
    "For every cell (gridblock) within the domain (not on the boundary), we can write that (for the steady-state), the sum of all fluxes is zero.\n",
    "\n",
    "\\begin{align}\n",
    "&\\left(D\\theta \\frac{c_E - c_C}{\\Delta x} +   D\\theta \\frac{c_W - c_E}{ \\Delta x}   \\right) (\\Delta y) (\\Delta z) = 0 \\\\\n",
    "\\end{align}\n",
    "\n",
    "For the cells corresponding to the boundary problem, the equations are simple:\n",
    "\n",
    "\\begin{equation}\n",
    "c_{\\mathrm{left}} = \\text{Specified value for the left side of the domain}\n",
    "\\end{equation}\n",
    "\\begin{equation}\n",
    "c_{\\mathrm{right}} = \\text{Specified value for the right side of the domain}\n",
    "\\end{equation}\n",
    "\n",
    "## Translation into a computational problem\n",
    "\n",
    "We have seen that this stencil can be applied to any grid block and this lead to a system of $n$ equations, where $n$ is the number of gridblocks. These equations can be written in a matrix form\n",
    "\n",
    "\\begin{equation}\n",
    "Ac = b\n",
    "\\end{equation}\n",
    "\n",
    "where A is a 2D matrix ($n \\times n$), c is the solution vector (array of size $n$) and b is the right hand side (array of size $n$).\n",
    "\n",
    "Apart from the boundary conditions, every line of this matrix represents the equation above:\n",
    "\n",
    "\\begin{equation}\n",
    "\\left( -2  \\frac{D\\theta}{\\Delta x} c_C + \\frac{D\\theta}{\\Delta x}c_E + \\frac{D\\theta}{\\Delta x} c_W \\right) \\Delta y \\Delta z  = 0\n",
    "\\end{equation}\n",
    "\n",
    "In a computational sense, this can be written as:\n",
    "\n",
    "\\begin{equation}\n",
    "\\left( -2  \\frac{D\\theta}{\\Delta x} c_{\\left[i\\right]}  + \\frac{D\\theta}{\\Delta x}c_{\\left[i-1\\right]} +   \\frac{D\\theta}{\\Delta x} c_{\\left[i+1\\right]} \\right) \\Delta y \\Delta z  = 0\n",
    "\\end{equation}\n",
    "\n",
    "Therefore, for line $i$, representing the $i^{th}$ gridblock, the value for the $i-1$ columnn of matrix $A$ should be\n",
    "\\begin{equation}\n",
    "A\\left[i \\right]\\left[i-1 \\right] = + \\frac{D\\theta}{\\Delta x}\\Delta y \\Delta z\n",
    "\\end{equation}\n",
    "\n",
    "The value representing the contribution from the cell on the right ($i+1$ column) is\n",
    "\\begin{equation}\n",
    "A\\left[i \\right]\\left[i+1 \\right] = + \\frac{D\\theta}{\\Delta x}\\Delta y \\Delta z\n",
    "\\end{equation}\n",
    "\n",
    "And the term on the diagonal is\n",
    "\\begin{equation}\n",
    "A\\left[i \\right]\\left[i\\right] = -2 \\frac{D\\theta}{\\Delta x}\\Delta y \\Delta z\n",
    "\\end{equation}\n",
    "\n",
    "The boundary conditions will be written as:\n",
    "\n",
    "\\begin{equation}\n",
    "c{\\left[0\\right]}   = c_{\\text{left}}\n",
    "\\end{equation}\n",
    "\\begin{equation}\n",
    "c{\\left[n-1\\right]}   = c_{\\text{right}}\n",
    "\\end{equation}\n",
    "So that means that the matrix A will have:\n",
    "\\begin{equation}\n",
    "A\\left[0 \\right]\\left[0 \\right] = 1\n",
    "\\end{equation}\n",
    "\\begin{equation}\n",
    "A\\left[n-1 \\right]\\left[n-1 \\right] = 1\n",
    "\\end{equation}\n",
    "\n",
    "And the boundary conditions have to be in the vector $b$ (the right-hand-side):\n",
    "\\begin{equation}\n",
    "b{\\left[0 \\right]} = c_{\\text{left}}\n",
    "\\end{equation}\n",
    "\\begin{equation}\n",
    "b{\\left[n-1 \\right]} = c_{\\text{right}}\n",
    "\\end{equation}\n",
    "\n",
    "## Building these matrixes\n",
    "\n",
    "In the cell below, we have defined a function which builds the matrix A and the vector b. A lot of comments are given. We strongly advise you to make the link between the code and the previous equation. We don't need you to be able to write this alone, or by memory, but to be able to understand these lines and adapt them."
   ]
  },
  {
   "cell_type": "code",
   "execution_count": null,
   "metadata": {
    "deletable": false,
    "editable": false,
    "nbgrader": {
     "checksum": "6595297a1838aff6ac082f9a8d637f49",
     "grade": false,
     "grade_id": "cell-1a2af915a90d524e",
     "locked": true,
     "schema_version": 1,
     "solution": false
    }
   },
   "outputs": [],
   "source": [
    "import matplotlib.pyplot as plt\n",
    "import numpy as np\n",
    "from numpy.testing import assert_almost_equal"
   ]
  },
  {
   "cell_type": "code",
   "execution_count": null,
   "metadata": {
    "deletable": false,
    "editable": false,
    "nbgrader": {
     "checksum": "e1fbd7733ea6ae7677744c63fe357702",
     "grade": false,
     "grade_id": "cell-07bfc86663956631",
     "locked": true,
     "schema_version": 1,
     "solution": false
    }
   },
   "outputs": [],
   "source": [
    "def build_1d_matrix(c_left, c_right, n, D, width, poro):\n",
    "    \"\"\"\n",
    "    Constructs a coefficient matrix A and an array b related to the problem Ac = b.\n",
    "    \n",
    "    Parameters\n",
    "    ----------\n",
    "    \n",
    "    c_left: float\n",
    "         left boundary condition for concentration [mg/L]\n",
    "    c_right: float\n",
    "         right boundary conditions for concentration [mg/L]\n",
    "    n:  int \n",
    "       number of cells/gridblocks [-]\n",
    "    D:  float \n",
    "        value of the diffusion coefficient (supposed the same everywhere) [m2/s]\n",
    "    width float: \n",
    "       total physical width of the domain [m]\n",
    "    poro: float\n",
    "       porosity value, supposed the same everywhere [-]\n",
    "       \n",
    "    Returns\n",
    "    -------\n",
    "    \n",
    "    A, b: tuple\n",
    "       A: 2-d np.float array \n",
    "       b: 1-d np.float vector\n",
    "       \n",
    "       These solve the  \n",
    "       discretized 1D diffusion problem Ax = b\n",
    "    \"\"\"\n",
    "    # The name of this function is build_1d_matrix. We have to know its name to use it!\n",
    "    # In this function, we will use the values of every parameters which are given to the function\n",
    "    # ( c_left, c_right, n ,..): we have to use the same names and not overwrite these!\n",
    "    A = np.zeros((n, n))  # This is the initialization of the square matrix \"A\".\n",
    "    # it is a n*n matrix which we initially fill with 0\n",
    "    b = np.zeros(n)\n",
    "    # b is the 1D array representing the RHS\n",
    "    dx = width / (n - 1)\n",
    "    # for a 10m width with 1 meter between cels, we need 11 cells\n",
    "    # so, dx, which is the length between the cells, would be 1m (10/(11-1))\n",
    "    dy = dz = dx  # here it is assumed that all grid cells are cubes\n",
    "    coef = poro * D / dx * dy * dz\n",
    "    # this coefficient is the one which appears in front of every term in the conservation equation\n",
    "\n",
    "    # Now we are going to put the coefficients in the matrix A and in vector b.\n",
    "    # So we are going to loop over every equation, each of them being described by one line of the matrix A\n",
    "    for i in range(n):\n",
    "        if i == 0:\n",
    "            # The first line represents the left boundary condition\n",
    "            # the \"index\" i representing the left-value is 0\n",
    "            # The equation for the left gridblock is:  1 * c[0] = c_left.\n",
    "            # So, in the matrix form, the coefficicent associated with c[0] in line 0 is 1.\n",
    "            A[i][i] = 1\n",
    "            # while the RHS associated to that is bc_left\n",
    "            b[i] = c_left\n",
    "        elif i == n - 1:\n",
    "            # Same for the right side. the equation there is c[n-1] = c_right\n",
    "            A[i][i] = 1\n",
    "            b[i] = c_right\n",
    "        else:\n",
    "            # For every other node, we have to write the long equation.\n",
    "            East = coef\n",
    "            West = coef\n",
    "            # In the future, these might not be precisely the same, so we define one for East and one for West.\n",
    "            A[i][i] = East + West\n",
    "            A[i][i + 1] = -East\n",
    "            A[i][i - 1] = -West\n",
    "            # As we indexed the unknowns from left to right, the unknow corresponding\n",
    "            # to the concentration in the gridblock right to the i-th gridblock is the i+1 unknown\n",
    "\n",
    "            # And, as there is nothing in the RHS in the equation above, the right hand side should be zero.\n",
    "            # But, as it was initialized as 0, there is no need to be b[i] = 0 (it is alreay done !)\n",
    "\n",
    "            # We could have written things like this below, this would be precisely the same:\n",
    "            # A[i][i] = 2*coef\n",
    "            # A[i][i+1] = - coef\n",
    "            # A[i][i-1] = -coef\n",
    "    return A, b\n",
    "    # This last line is very important. It says that the function has to give back the matrix A and the array b.\n",
    "    # Basically, when you call that function, specifying all the arguments, the function will give back these\n",
    "    # two arrays, so that you can work with them."
   ]
  },
  {
   "cell_type": "code",
   "execution_count": null,
   "metadata": {
    "deletable": false,
    "editable": false,
    "lines_to_next_cell": 2,
    "nbgrader": {
     "checksum": "293012b417175e01bbd17b6375f3de41",
     "grade": false,
     "grade_id": "cell-e5cda80cdf50fd9f",
     "locked": true,
     "schema_version": 1,
     "solution": false
    }
   },
   "outputs": [],
   "source": [
    "# Here is an example of how to initialize and use the function.\n",
    "c_left = 1  # This is the left boundary condition\n",
    "c_right = 0  # This is the right boundary condition\n",
    "n = 51  # This is the amount of cells\n",
    "diff = 2e-9  # This is the diffusion coefficicent\n",
    "width = 2  # This is the width\n",
    "poro = 0.4  # This is the porosity\n",
    "\n",
    "x = np.linspace(0, width, n)  # this defines the array of x-values\n",
    "\n",
    "### here is the crucial part. We are going to call the function we created\n",
    "### and provide it with our defined parameters\n",
    "A, b = build_1d_matrix(c_left, c_right, n, diff, width, poro)\n",
    "### So here, A and b will be defined by the function, which returns A and b (you can use different name here if you want)\n",
    "### ex: if you write, x,y = build_1d_matrix( ... ),\n",
    "### basically, it says that x = the first returned value of the function (A),\n",
    "### and y = the second value returned by the function (b). But here you can use whatever variable names you want.\n",
    "\n",
    "# Basically we have set up our system of equation A c = b. Now we only need to solve it.\n",
    "# There are numerical methods dedicated to that (we will study them in more depth later), but now, let's just use them\n",
    "# Numpy has a set of linear algebra functions, one of which is \"solve\", which we use like this:\n",
    "\n",
    "c = np.linalg.solve(A, b)\n",
    "# this basically computes the solution of problem Ac = b and puts the values of the solution in an array c.\n",
    "\n",
    "# Here is the plot of the result. You can see that on the left, c = 1, while on the right, c = 0 and observe a linear decrease.\n",
    "plt.plot(x, c, label=\"Concentration\")\n",
    "plt.xlabel(\"x-axis (m)\")\n",
    "plt.ylabel(\"Concentration (mg/L)\");"
   ]
  },
  {
   "cell_type": "code",
   "execution_count": null,
   "metadata": {
    "deletable": false,
    "editable": false,
    "nbgrader": {
     "checksum": "6230e9a665139651f8e0e236a0aca7ff",
     "grade": false,
     "grade_id": "cell-af89681fee310329",
     "locked": true,
     "schema_version": 1,
     "solution": false
    }
   },
   "outputs": [],
   "source": [
    "# Don't forget that you can always get help to  know what a function does,\n",
    "help(build_1d_matrix)"
   ]
  },
  {
   "cell_type": "markdown",
   "metadata": {
    "deletable": false,
    "editable": false,
    "lines_to_next_cell": 2,
    "nbgrader": {
     "checksum": "a22068246b573ff78351f1369f74b662",
     "grade": false,
     "grade_id": "cell-a53c3902d8a1627d",
     "locked": true,
     "schema_version": 1,
     "solution": false
    }
   },
   "source": [
    "# Assignment\n",
    "\n",
    "## Taking into account a source term\n",
    "\n",
    "So far, our diffusion problem is simple: solute (like sulfate) is diffusing from the high concentration side to the low concentration side. But it is also possible that chemical reactions could be occurring to produce or consume sulfate within the problem domain. We now want to account for this so-called source of mass in our discrete approximation.\n",
    "\n",
    "Our assignment consists of three parts.\n",
    "\n",
    "1. We want you to develop the correct 1-D steady-state discrete approximation stencil (W-C-E) in terms of concentrations for the situation where mass is being created within the domain by, for example, a chemical reaction.\n",
    "2. We want you to modify the code to simulate diffusion with a so-called source term.\n",
    "3. We want you to generalize the discrete approximation to 2 dimensions by adding N - S gridblocks above and below C.\n",
    "\n",
    "### Production rates\n",
    "\n",
    "For this problem, we will assume that in the zones where sulfate is being produced, the rate of production is given on a per mass of sediment basis. That is, for each kg of sediment, we assume that $xx~mg$ of sulfate is generated each second; or that the source is $q=xxx~mg/kg\\cdot s$, (in words, the source is xxx mg of mass being produced for every kg of sediment every second). Assume that the bulk density of the porous sediment is $\\rho_{bulk}=2000~kg/m^3$.  That is, the mass of sediments in $1~m^3$ of porous media is $2000~kg$.\n",
    "\n",
    "**Problem**: how much mass is produced every second in a gridblock of volume $v=5~m^3$?\n",
    "\n",
    "**Note** a negative rate indicates that mass is being consumed (for instance, sulfate could be consumed by sulfate-reducing bacteria).\n",
    "\n",
    "**Source zone**\n",
    "\n",
    "We will assume that there are reactive sulfide minerals only in the zone between $0.5 m$ and $1~m$, where 0 m corresponds to the bottom boundary. This source $q$ generates sulfate at a  rate of 10$^{-9}$ $mg/(kg\\cdot s)$. But this source is not located everywhere: only between 0.5 and 1 meter.\n"
   ]
  },
  {
   "cell_type": "code",
   "execution_count": null,
   "metadata": {
    "deletable": false,
    "editable": false,
    "nbgrader": {
     "checksum": "764dd8c5d1272605d3ab999b2e3623b3",
     "grade": false,
     "grade_id": "cell-981f7956591b2baa",
     "locked": true,
     "schema_version": 1,
     "solution": false
    }
   },
   "outputs": [],
   "source": [
    "# We define a source as an array of n elements, who are all zeros.\n",
    "Q = np.zeros(n)\n",
    "# we assign every index between 0.5 and 1 meter (between 13-25) to the source\n",
    "Q[13:25] = 5e-9  # mg/L/s"
   ]
  },
  {
   "cell_type": "markdown",
   "metadata": {
    "deletable": false,
    "editable": false,
    "nbgrader": {
     "checksum": "40c8d5e1375f2a128050a41b669513b9",
     "grade": false,
     "grade_id": "cell-75502cef6bc37bb7",
     "locked": true,
     "schema_version": 1,
     "solution": false
    }
   },
   "source": [
    "## Add the source term to the discrete approximation\n",
    "\n",
    "\n",
    "To determine how to account for a source in our discrete approximation, recall our steady-state statement in its most fundamental (total flux) form:\n",
    "\n",
    "\\begin{align}\n",
    "J_{EC}+J_{WC} = 0\\\\\n",
    "\\end{align}\n",
    "\n",
    "In words, this equation says: the *rate* of mass fluxing (either in or out) from E, plus the *rate* of mass fluxing either in or out from W sums to zero. Both $J_{WC}$ and $J_{EC}$ have dimensions of $\\left[M\\over T\\right]$.\n",
    "\n",
    "What if in addition to mass fluxing in and out by diffusion at rates $J_{WC}$ and $J_{EC}$, mass is also being created inside C at some rate $Q~\\left[M\\over T\\right]$? How does the fundamental equation change?\n",
    "\n",
    "If you get that, then you can follow the steps from earlier notebooks where we developed this stencil for the sitation where there is no source:\n",
    "\n",
    "\\begin{align}\n",
    "&\\left(D\\theta {c_E - c_C \\over \\Delta x} +   D\\theta {c_W - c_C \\over \\Delta x} \\right) (\\Delta y) (\\Delta z) = 0 \\\\\n",
    "\\end{align}\n",
    "\n",
    "We want you to write the equivalent stencil for the case where there is a source of mass $q ~ mg/(kg\\cdot s)$.\n",
    "\n",
    "\n",
    "\n",
    "\n"
   ]
  },
  {
   "cell_type": "markdown",
   "metadata": {
    "deletable": false,
    "editable": false,
    "nbgrader": {
     "checksum": "a4e6864b172d20bc0fce2797ed23f92d",
     "grade": false,
     "grade_id": "cell-bda2bafc34fa60b4",
     "locked": true,
     "schema_version": 1,
     "solution": false
    }
   },
   "source": [
    "<div class=\"alert alert-info\" >\n",
    "\n",
    "\n",
    "**Enter your answer below**\n",
    "\n",
    "Replace the 1-D steady-state fundamental equation below with the appropriate 1-D steady-state fundamental equation with a source term:\n",
    "\\begin{align}\n",
    "J_{EC}+J_{WC} = 0\\\\\n",
    "\\end{align}\n",
    "\n",
    "\n",
    "\n",
    "\n",
    "Replace the 1-D steady-state W-C-E stencil below with the appropriate 1-D steady-state W-C-E stencil with a source of mass per unit mass of sediment:\n",
    "\n",
    "\n",
    "\n",
    "\\begin{align}\n",
    "&\\left(D\\theta {c_E - c_C \\over \\Delta x} +   D\\theta {c_W - c_C \\over \\Delta x} \\right) (\\Delta y) (\\Delta z) = 0 \\\\\n",
    "\\end{align}\n",
    "\n",
    "</div>"
   ]
  },
  {
   "cell_type": "markdown",
   "metadata": {
    "deletable": false,
    "editable": false,
    "nbgrader": {
     "checksum": "4ba0e49b2d7c31b583cf835f0e7eed98",
     "grade": false,
     "grade_id": "cell-5bc76f89cffff051",
     "locked": true,
     "schema_version": 1,
     "solution": false
    }
   },
   "source": [
    "\n",
    "### Question1: Modify the code\n",
    "\n",
    "What we want is for you to modify the function which we have given you to incorporate the source term Q and compute the concentration. Therefore, we want you to copy and paste the function above, change its name.\n",
    "\n",
    "Don't forget you are defining a function, so it should start like:\n",
    "def NAME_OF_THE_FUNCTION(ARGUMENT1,ARGUMENT2,...):\n"
   ]
  },
  {
   "cell_type": "code",
   "execution_count": null,
   "metadata": {
    "deletable": false,
    "lines_to_next_cell": 2,
    "nbgrader": {
     "checksum": "2a2cd0263b79a5637a35a941d315ecef",
     "grade": true,
     "grade_id": "cell-e86f37143ab10e5e",
     "locked": false,
     "points": 3,
     "schema_version": 1,
     "solution": true
    }
   },
   "outputs": [],
   "source": [
    "# YOUR CODE HERE\n",
    "raise NotImplementedError()"
   ]
  },
  {
   "cell_type": "code",
   "execution_count": null,
   "metadata": {
    "deletable": false,
    "editable": false,
    "nbgrader": {
     "checksum": "fd336f4b6dd20af200e1cfeb1ba1a722",
     "grade": false,
     "grade_id": "cell-f2206762911ff82a",
     "locked": true,
     "schema_version": 1,
     "solution": false
    }
   },
   "outputs": [],
   "source": [
    "# This is the same cell than before, the only difference lies in the name of the function\n",
    "c_left = 1  # This is the left boundary condition\n",
    "c_right = 0  # This is the right boundary condition\n",
    "n = 51  # This is the amount of cells\n",
    "diff = 2e-9  # This is the diffusion coefficicent\n",
    "width = 2  # This is the width\n",
    "poro = 0.4  # This is the porosity\n",
    "\n",
    "x = np.linspace(0, width, n)"
   ]
  },
  {
   "cell_type": "markdown",
   "metadata": {
    "deletable": false,
    "editable": false,
    "nbgrader": {
     "checksum": "d2ca592966e8cef9a446ba59a1b6f1e9",
     "grade": false,
     "grade_id": "cell-c53fecb12d6035a8",
     "locked": true,
     "schema_version": 1,
     "solution": false
    }
   },
   "source": [
    "### Question 2: Build the Matrix\n",
    "\n",
    "In the next cell, we want you to write something like\n",
    "\n",
    "A, b = NAME_OF_THE_FUNCTION(ARGUMENT1,ARGUMENT2,...)\n",
    "\n",
    "So you have to define the arguments this function has to be sent, and keep the names A, and b, and don't change the return of the function! (otherwise the rest will not work).\n"
   ]
  },
  {
   "cell_type": "code",
   "execution_count": null,
   "metadata": {
    "deletable": false,
    "nbgrader": {
     "checksum": "baf70aa0e18fae43332513912e229b92",
     "grade": true,
     "grade_id": "cell-e0c78cf9798b7561",
     "locked": false,
     "points": 2,
     "schema_version": 1,
     "solution": true
    }
   },
   "outputs": [],
   "source": [
    "# YOUR CODE HERE\n",
    "raise NotImplementedError()"
   ]
  },
  {
   "cell_type": "code",
   "execution_count": null,
   "metadata": {
    "deletable": false,
    "editable": false,
    "nbgrader": {
     "checksum": "12bc58b59237ada6c6f7e56c9248d730",
     "grade": false,
     "grade_id": "cell-1cf19cc79bfee627",
     "locked": true,
     "schema_version": 1,
     "solution": false
    }
   },
   "outputs": [],
   "source": [
    "c = np.linalg.solve(A, b)\n",
    "plt.plot(x, c, label=\"Concentration\")\n",
    "plt.xlabel(\"x-axis (m)\")\n",
    "plt.ylabel(\"Concentration (mg/L)\")"
   ]
  },
  {
   "cell_type": "markdown",
   "metadata": {
    "deletable": false,
    "editable": false,
    "nbgrader": {
     "checksum": "97770887b88209bc62514882a16902de",
     "grade": false,
     "grade_id": "cell-de10e169f92450de",
     "locked": true,
     "schema_version": 1,
     "solution": false
    }
   },
   "source": [
    "### Hidden test:  check your concentration value"
   ]
  },
  {
   "cell_type": "code",
   "execution_count": null,
   "metadata": {
    "deletable": false,
    "editable": false,
    "nbgrader": {
     "checksum": "4275d8d6fb76a58a8e5d1ad5fa4f9f9b",
     "grade": true,
     "grade_id": "cell-c4958903bc886687",
     "locked": true,
     "points": 2,
     "schema_version": 1,
     "solution": false
    }
   },
   "outputs": [],
   "source": [
    "### BEGIN HIDDEN TEST\n",
    "from numpy.testing import assert_almost_equal\n",
    "assert_almost_equal(c[15], 1.8, decimal=2)\n",
    "### END HIDDEN TEST"
   ]
  },
  {
   "cell_type": "markdown",
   "metadata": {
    "deletable": false,
    "editable": false,
    "nbgrader": {
     "checksum": "f181810cab31a1962ed9b8ded86fdc25",
     "grade": false,
     "grade_id": "cell-093a5b343f44647f",
     "locked": true,
     "schema_version": 1,
     "solution": false
    }
   },
   "source": [
    "## Discrete approximation in 2 dimensions\n",
    "\n",
    "\n",
    "The fundamental equation in 2 dimensions is\n",
    "\\begin{align}\n",
    "J_{EC}+J_{WC}+J_{NC}+J_{SC} = 0\\\\\n",
    "\\end{align}\n",
    "where now our stencil is in the shape of a cross `+`, with North, South, East and West, and Centre.\n",
    "\n",
    "Adapt the 1-D, E-W equation to two dimensions\n",
    "\\begin{align}\n",
    "&\\left(D\\theta \\frac{c_E - c_C}{\\Delta x} +   D\\theta \\frac{c_W - c_C}{\\Delta x}   \\right) (\\Delta y) (\\Delta z) = 0 \\\\\n",
    "\\end{align}\n",
    "\n",
    "in 2D. Use  N to denote North, and S to denote South.\n",
    "\n",
    "<img src=\"figures/nsewc_stencil.png\" width=\"25%\">\n",
    "\n",
    "(if you can't deal with math type, write is as understandably as possible!)."
   ]
  },
  {
   "cell_type": "markdown",
   "metadata": {
    "deletable": false,
    "editable": false,
    "nbgrader": {
     "checksum": "36c01e386012bbea239855cd49d4fb54",
     "grade": false,
     "grade_id": "cell-d0a57d65b95205ad",
     "locked": true,
     "schema_version": 1,
     "solution": false
    }
   },
   "source": [
    "### Question 3: Write a 2-D steady-state stencil"
   ]
  },
  {
   "cell_type": "markdown",
   "metadata": {
    "deletable": false,
    "nbgrader": {
     "checksum": "4b852de5c3becd51f444b14eadf48624",
     "grade": true,
     "grade_id": "cell-469ef51e843ca52b",
     "locked": false,
     "points": 3,
     "schema_version": 1,
     "solution": true
    }
   },
   "source": [
    "YOUR ANSWER HERE"
   ]
  }
 ],
 "metadata": {
  "jupytext": {
   "cell_metadata_filter": "all",
   "formats": "ipynb",
   "notebook_metadata_filter": "all"
  },
  "kernelspec": {
   "display_name": "Python 3",
   "language": "python",
   "name": "python3"
  },
  "language_info": {
   "codemirror_mode": {
    "name": "ipython",
    "version": 3
   },
   "file_extension": ".py",
   "mimetype": "text/x-python",
   "name": "python",
   "nbconvert_exporter": "python",
   "pygments_lexer": "ipython3",
   "version": "3.6.8"
  },
  "nbsphinx": {
   "execute": "never"
  },
  "toc": {
   "base_numbering": 1,
   "nav_menu": {},
   "number_sections": true,
   "sideBar": true,
   "skip_h1_title": false,
   "title_cell": "Table of Contents",
   "title_sidebar": "Contents",
   "toc_cell": true,
   "toc_position": {
    "height": "calc(100% - 180px)",
    "left": "10px",
    "top": "150px",
    "width": "165px"
   },
   "toc_section_display": true,
   "toc_window_display": true
  }
 },
 "nbformat": 4,
 "nbformat_minor": 2
}
