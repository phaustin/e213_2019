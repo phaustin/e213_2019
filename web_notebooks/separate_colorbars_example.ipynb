{
 "cells": [
  {
   "cell_type": "markdown",
   "metadata": {
    "lines_to_next_cell": 0,
    "toc": true
   },
   "source": [
    "<h1>Table of Contents<span class=\"tocSkip\"></span></h1>\n",
    "<div class=\"toc\"><ul class=\"toc-item\"><li><span><a href=\"#Read-in-the-concentration-dataset\" data-toc-modified-id=\"Read-in-the-concentration-dataset-1\"><span class=\"toc-item-num\">1&nbsp;&nbsp;</span>Read in the concentration dataset</a></span></li><li><span><a href=\"#Set-the-pallete\" data-toc-modified-id=\"Set-the-pallete-2\"><span class=\"toc-item-num\">2&nbsp;&nbsp;</span>Set the pallete</a></span></li><li><span><a href=\"#Make-a-pair-of-plots\" data-toc-modified-id=\"Make-a-pair-of-plots-3\"><span class=\"toc-item-num\">3&nbsp;&nbsp;</span>Make a pair of plots</a></span></li></ul></div>"
   ]
  },
  {
   "cell_type": "markdown",
   "metadata": {
    "lines_to_next_cell": 0
   },
   "source": [
    "# Repeat the colormap example with separate colorbars\n",
    "\n",
    "Same approach as with the colormap_example notebook, but make a separate \n",
    "colorbar for each subplot"
   ]
  },
  {
   "cell_type": "code",
   "execution_count": 1,
   "metadata": {},
   "outputs": [
    {
     "name": "stdout",
     "output_type": "stream",
     "text": [
      "setting context.cookbook_dir to /Users/phil/repos/eosc213_students/notebooks/cookbook_examples\n"
     ]
    }
   ],
   "source": [
    "import matplotlib\n",
    "import matplotlib.pyplot as plt\n",
    "import numpy as np\n",
    "import context"
   ]
  },
  {
   "cell_type": "markdown",
   "metadata": {},
   "source": [
    "## Read in the concentration dataset"
   ]
  },
  {
   "cell_type": "code",
   "execution_count": 2,
   "metadata": {
    "lines_to_next_cell": 0
   },
   "outputs": [],
   "source": [
    "cp = np.load(context.cookbook_dir / \"colormap_data.npz\")\n",
    "x, y, c = cp[\"x\"], cp[\"y\"], cp[\"c\"]"
   ]
  },
  {
   "cell_type": "markdown",
   "metadata": {},
   "source": [
    "## Set the pallete"
   ]
  },
  {
   "cell_type": "code",
   "execution_count": 3,
   "metadata": {
    "lines_to_next_cell": 0
   },
   "outputs": [],
   "source": [
    "pal = plt.get_cmap(\"RdYlBu\").reversed()\n",
    "pal.set_bad(\"0.75\")  # 75% grey for np.nan (missing data)\n",
    "pal.set_over(\"xkcd:white\")  # color cells > vmax white\n",
    "pal.set_under(\"xkcd:teal\")  # color cells < vmin teal\n",
    "vmax = 1.5\n",
    "vmin = 0.2\n",
    "the_norm = matplotlib.colors.Normalize(vmin=vmin, vmax=vmax, clip=False)"
   ]
  },
  {
   "cell_type": "markdown",
   "metadata": {},
   "source": [
    "## Make a pair of plots"
   ]
  },
  {
   "cell_type": "code",
   "execution_count": 4,
   "metadata": {
    "hide_input": false,
    "scrolled": true
   },
   "outputs": [
    {
     "data": {
      "image/png": "[encoded data removed]",
      "text/plain": [
       "<Figure size 1296x720 with 4 Axes>"
      ]
     },
     "metadata": {
      "needs_background": "light"
     },
     "output_type": "display_data"
    }
   ],
   "source": [
    "#\n",
    "# copy the data array for safety\n",
    "#\n",
    "plot_c = np.array(c)\n",
    "plot_c[plot_c < 1.0e-4] = np.nan\n",
    "m2km = 1.0e-3\n",
    "time_steps = np.array([0, 1])\n",
    "nfig = len(time_steps)\n",
    "fig, grid = plt.subplots(1, 2, figsize=(18, 10))\n",
    "ntimesteps = len(time_steps)\n",
    "\n",
    "for time_index, the_ax in zip(time_steps, grid.flat):\n",
    "    im = the_ax.pcolormesh(\n",
    "        x * m2km, y * m2km, plot_c[:, :, time_index], norm=the_norm, cmap=pal\n",
    "    )\n",
    "    the_ax.set_aspect(1)\n",
    "    cax = fig.colorbar(im, ax=the_ax, extend=\"both\", shrink=0.5)\n",
    "    cax.set_label(\"ylabel here\", rotation=270, va=\"bottom\", size=20)\n",
    "    fig.subplots_adjust(bottom=0.1, top=0.8)\n",
    "\n",
    "# cax = fig.add_axes([0.92, 0.1, 0.025, 0.55], frameon=False)\n",
    "# cbar = matplotlib.colorbar.Colorbar(cax, im, extend=\"both\")\n",
    "# cbar.ax.set_ylabel(\"Concentration ($kg/m^3$)\", rotation=270, size=20, va=\"bottom\")\n",
    "fig.suptitle(\n",
    "    \"Evolution of the oil concentration through time\", y=0.7, size=25, va=\"top\"\n",
    ")\n",
    "fig.savefig(\"Oil_Concentration_Evolution.png\")"
   ]
  }
 ],
 "metadata": {
  "jupytext": {
   "cell_metadata_filter": "all",
   "notebook_metadata_filter": "all,-language_info",
   "text_representation": {
    "extension": ".py",
    "format_name": "percent",
    "format_version": "1.2",
    "jupytext_version": "1.0.4"
   }
  },
  "kernelspec": {
   "display_name": "Python 3",
   "language": "python",
   "name": "python3"
  },
  "language_info": {
   "codemirror_mode": {
    "name": "ipython",
    "version": 3
   },
   "file_extension": ".py",
   "mimetype": "text/x-python",
   "name": "python",
   "nbconvert_exporter": "python",
   "pygments_lexer": "ipython3",
   "version": "3.6.7"
  },
  "nbsphinx": {
   "execute": "never"
  },
  "toc": {
   "base_numbering": 1,
   "nav_menu": {},
   "number_sections": true,
   "sideBar": true,
   "skip_h1_title": true,
   "title_cell": "Table of Contents",
   "title_sidebar": "Contents",
   "toc_cell": true,
   "toc_position": {},
   "toc_section_display": true,
   "toc_window_display": true
  }
 },
 "nbformat": 4,
 "nbformat_minor": 2
}
